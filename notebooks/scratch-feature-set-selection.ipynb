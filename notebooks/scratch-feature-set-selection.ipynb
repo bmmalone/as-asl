{
 "cells": [
  {
   "cell_type": "code",
   "execution_count": 1,
   "metadata": {
    "collapsed": true
   },
   "outputs": [],
   "source": [
    "%load_ext autoreload\n",
    "%autoreload 2\n",
    "%matplotlib inline\n",
    "\n",
    "from argparse import Namespace\n",
    "import misc.logging_utils as logging_utils\n",
    "\n",
    "args = Namespace()\n",
    "logger = logging_utils.get_ipython_logger()"
   ]
  },
  {
   "cell_type": "code",
   "execution_count": 9,
   "metadata": {},
   "outputs": [],
   "source": [
    "import numpy as np\n",
    "import networkx as nx\n",
    "\n",
    "import misc.automl_utils as automl_utils\n",
    "import misc.parallel as parallel\n",
    "import misc.utils as utils\n",
    "\n",
    "import as_auto_sklearn.as_asl_command_line_utils as clu\n",
    "import as_auto_sklearn.as_asl_filenames as filenames\n",
    "import as_auto_sklearn.as_asl_utils as as_asl_utils\n",
    "from as_auto_sklearn.as_asl_ensemble import ASaslPipeline\n",
    "\n",
    "from as_auto_sklearn.presolver_scheduler import PresolverScheduler\n"
   ]
  },
  {
   "cell_type": "code",
   "execution_count": 4,
   "metadata": {},
   "outputs": [
    {
     "name": "stderr",
     "output_type": "stream",
     "text": [
      "INFO     : Read ASlib scenario: /mldb/oasc_scenarios/train/Bado\n",
      "WARNING  : Optional file not found: /mldb/oasc_scenarios/train/Bado/ground_truth.arff\n",
      "INFO     : Read /mldb/oasc_scenarios/train/Bado/description.txt\n",
      "WARNING  : Have not found algorithm_cutoff_memory\n",
      "WARNING  : Have not found features_cutoff_memory\n",
      "WARNING  : Have not found features_stochastic\n",
      "INFO     : Read /mldb/oasc_scenarios/train/Bado/algorithm_runs.arff\n",
      "INFO     : Read /mldb/oasc_scenarios/train/Bado/feature_values.arff\n",
      "INFO     : Read /mldb/oasc_scenarios/train/Bado/feature_runstatus.arff\n",
      "INFO     : Read /mldb/oasc_scenarios/train/Bado/feature_costs.arff\n",
      "INFO     : Read /mldb/oasc_scenarios/train/Bado/cv.arff\n",
      "DEBUG    : Replace all runtime data with PAR10 values for non-OK runs\n",
      "INFO     : Read ASlib scenario: /mldb/oasc_scenarios/train/Camilla\n",
      "WARNING  : Optional file not found: /mldb/oasc_scenarios/train/Camilla/ground_truth.arff\n",
      "WARNING  : Optional file not found: /mldb/oasc_scenarios/train/Camilla/feature_costs.arff\n",
      "INFO     : Read /mldb/oasc_scenarios/train/Camilla/description.txt\n",
      "WARNING  : Have not found algorithm_cutoff_memory\n",
      "WARNING  : Have not found features_cutoff_memory\n",
      "WARNING  : Have not found features_stochastic\n",
      "DEBUG    : Since we optimize quality, we use runtime cutoff of 1.\n",
      "INFO     : Read /mldb/oasc_scenarios/train/Camilla/algorithm_runs.arff\n",
      "INFO     : Read /mldb/oasc_scenarios/train/Camilla/feature_values.arff\n",
      "WARNING  : Found 3 duplicated feature vectors\n",
      "WARNING  : Index(['instance_12', 'instance_15', 'instance_82', 'instance_83',\n",
      "       'instance_85'],\n",
      "      dtype='object', name='instance_id')\n",
      "INFO     : Read /mldb/oasc_scenarios/train/Camilla/feature_runstatus.arff\n",
      "INFO     : Read /mldb/oasc_scenarios/train/Camilla/cv.arff\n",
      "INFO     : Read ASlib scenario: /mldb/oasc_scenarios/train/Caren\n",
      "WARNING  : Optional file not found: /mldb/oasc_scenarios/train/Caren/ground_truth.arff\n",
      "INFO     : Read /mldb/oasc_scenarios/train/Caren/description.txt\n",
      "WARNING  : Have not found algorithm_cutoff_memory\n",
      "WARNING  : Have not found features_cutoff_memory\n",
      "WARNING  : Have not found features_stochastic\n",
      "INFO     : Read /mldb/oasc_scenarios/train/Caren/algorithm_runs.arff\n",
      "INFO     : Read /mldb/oasc_scenarios/train/Caren/feature_values.arff\n",
      "WARNING  : Found 3 duplicated feature vectors\n",
      "WARNING  : Index(['instance_12', 'instance_15', 'instance_82', 'instance_83',\n",
      "       'instance_85'],\n",
      "      dtype='object', name='instance_id')\n",
      "INFO     : Read /mldb/oasc_scenarios/train/Caren/feature_runstatus.arff\n",
      "INFO     : Read /mldb/oasc_scenarios/train/Caren/feature_costs.arff\n",
      "INFO     : Read /mldb/oasc_scenarios/train/Caren/cv.arff\n",
      "DEBUG    : Replace all runtime data with PAR10 values for non-OK runs\n",
      "INFO     : Read ASlib scenario: /mldb/oasc_scenarios/train/Magnus\n",
      "WARNING  : Optional file not found: /mldb/oasc_scenarios/train/Magnus/ground_truth.arff\n",
      "INFO     : Read /mldb/oasc_scenarios/train/Magnus/description.txt\n",
      "WARNING  : Have not found algorithm_cutoff_memory\n",
      "WARNING  : Have not found features_cutoff_memory\n",
      "WARNING  : Have not found features_stochastic\n",
      "INFO     : Read /mldb/oasc_scenarios/train/Magnus/algorithm_runs.arff\n",
      "INFO     : Read /mldb/oasc_scenarios/train/Magnus/feature_values.arff\n",
      "WARNING  : Found 20 duplicated feature vectors\n",
      "WARNING  : Index(['instance_11', 'instance_18', 'instance_498', 'instance_500',\n",
      "       'instance_501', 'instance_502', 'instance_504', 'instance_51',\n",
      "       'instance_513', 'instance_514', 'instance_517', 'instance_518',\n",
      "       'instance_53', 'instance_54', 'instance_55', 'instance_559',\n",
      "       'instance_56', 'instance_568', 'instance_57', 'instance_571',\n",
      "       'instance_579', 'instance_58', 'instance_59', 'instance_590',\n",
      "       'instance_592', 'instance_598', 'instance_600', 'instance_63',\n",
      "       'instance_66', 'instance_70', 'instance_71', 'instance_72',\n",
      "       'instance_73', 'instance_74'],\n",
      "      dtype='object', name='instance_id')\n",
      "INFO     : Read /mldb/oasc_scenarios/train/Magnus/feature_runstatus.arff\n",
      "INFO     : Read /mldb/oasc_scenarios/train/Magnus/feature_costs.arff\n",
      "INFO     : Read /mldb/oasc_scenarios/train/Magnus/cv.arff\n",
      "DEBUG    : Replace all runtime data with PAR10 values for non-OK runs\n",
      "INFO     : Read ASlib scenario: /mldb/oasc_scenarios/train/Mira\n",
      "WARNING  : Optional file not found: /mldb/oasc_scenarios/train/Mira/ground_truth.arff\n",
      "INFO     : Read /mldb/oasc_scenarios/train/Mira/description.txt\n",
      "WARNING  : Have not found algorithm_cutoff_memory\n",
      "WARNING  : Have not found features_cutoff_memory\n",
      "WARNING  : Have not found features_stochastic\n",
      "INFO     : Read /mldb/oasc_scenarios/train/Mira/algorithm_runs.arff\n",
      "INFO     : Read /mldb/oasc_scenarios/train/Mira/feature_values.arff\n",
      "INFO     : Read /mldb/oasc_scenarios/train/Mira/feature_runstatus.arff\n",
      "INFO     : Read /mldb/oasc_scenarios/train/Mira/feature_costs.arff\n",
      "INFO     : Read /mldb/oasc_scenarios/train/Mira/cv.arff\n",
      "DEBUG    : Replace all runtime data with PAR10 values for non-OK runs\n",
      "INFO     : Read ASlib scenario: /mldb/oasc_scenarios/train/Monty\n",
      "WARNING  : Optional file not found: /mldb/oasc_scenarios/train/Monty/ground_truth.arff\n",
      "INFO     : Read /mldb/oasc_scenarios/train/Monty/description.txt\n",
      "WARNING  : Have not found algorithm_cutoff_memory\n",
      "WARNING  : Have not found features_cutoff_memory\n",
      "WARNING  : Have not found features_stochastic\n",
      "INFO     : Read /mldb/oasc_scenarios/train/Monty/algorithm_runs.arff\n",
      "INFO     : Read /mldb/oasc_scenarios/train/Monty/feature_values.arff\n",
      "WARNING  : Found 14 duplicated feature vectors\n",
      "WARNING  : Index(['instance_311', 'instance_324', 'instance_47', 'instance_51',\n",
      "       'instance_532', 'instance_545', 'instance_548', 'instance_553',\n",
      "       'instance_561', 'instance_566', 'instance_582', 'instance_594',\n",
      "       'instance_598', 'instance_599', 'instance_601', 'instance_603',\n",
      "       'instance_613', 'instance_617', 'instance_618', 'instance_620',\n",
      "       'instance_621', 'instance_624', 'instance_627', 'instance_629',\n",
      "       'instance_630'],\n",
      "      dtype='object', name='instance_id')\n",
      "INFO     : Read /mldb/oasc_scenarios/train/Monty/feature_runstatus.arff\n",
      "INFO     : Read /mldb/oasc_scenarios/train/Monty/feature_costs.arff\n",
      "INFO     : Read /mldb/oasc_scenarios/train/Monty/cv.arff\n",
      "DEBUG    : Replace all runtime data with PAR10 values for non-OK runs\n",
      "INFO     : Read ASlib scenario: /mldb/oasc_scenarios/train/Oberon\n",
      "WARNING  : Optional file not found: /mldb/oasc_scenarios/train/Oberon/ground_truth.arff\n",
      "WARNING  : Optional file not found: /mldb/oasc_scenarios/train/Oberon/feature_costs.arff\n",
      "INFO     : Read /mldb/oasc_scenarios/train/Oberon/description.txt\n",
      "WARNING  : Have not found algorithm_cutoff_memory\n",
      "WARNING  : Have not found features_cutoff_time\n",
      "DEBUG    : Assumption FEATURES_CUTOFF_TIME == ALGORITHM_CUTOFF_TIME \n",
      "WARNING  : Have not found features_cutoff_memory\n",
      "WARNING  : Have not found features_stochastic\n",
      "DEBUG    : Since we optimize quality, we use runtime cutoff of 1.\n",
      "INFO     : Read /mldb/oasc_scenarios/train/Oberon/algorithm_runs.arff\n",
      "INFO     : Read /mldb/oasc_scenarios/train/Oberon/feature_values.arff\n",
      "INFO     : Read /mldb/oasc_scenarios/train/Oberon/feature_runstatus.arff\n",
      "INFO     : Read /mldb/oasc_scenarios/train/Oberon/cv.arff\n",
      "INFO     : Multiply all performance data by -1, since autofolio minimizes the scores but the objective is to maximize\n",
      "INFO     : Read ASlib scenario: /mldb/oasc_scenarios/train/Quill\n",
      "WARNING  : Optional file not found: /mldb/oasc_scenarios/train/Quill/ground_truth.arff\n",
      "INFO     : Read /mldb/oasc_scenarios/train/Quill/description.txt\n",
      "WARNING  : Have not found algorithm_cutoff_memory\n",
      "WARNING  : Have not found features_cutoff_memory\n",
      "WARNING  : Have not found features_stochastic\n",
      "INFO     : Read /mldb/oasc_scenarios/train/Quill/algorithm_runs.arff\n",
      "INFO     : Read /mldb/oasc_scenarios/train/Quill/feature_values.arff\n",
      "WARNING  : Found 11 duplicated feature vectors\n",
      "WARNING  : Index(['instance_135', 'instance_169', 'instance_196', 'instance_243',\n",
      "       'instance_255', 'instance_276', 'instance_368', 'instance_488',\n",
      "       'instance_620', 'instance_630', 'instance_666', 'instance_678',\n",
      "       'instance_696', 'instance_764'],\n",
      "      dtype='object', name='instance_id')\n",
      "INFO     : Read /mldb/oasc_scenarios/train/Quill/feature_runstatus.arff\n"
     ]
    },
    {
     "name": "stderr",
     "output_type": "stream",
     "text": [
      "INFO     : Read /mldb/oasc_scenarios/train/Quill/feature_costs.arff\n",
      "INFO     : Read /mldb/oasc_scenarios/train/Quill/cv.arff\n",
      "DEBUG    : Replace all runtime data with PAR10 values for non-OK runs\n",
      "INFO     : Read ASlib scenario: /mldb/oasc_scenarios/train/Sora\n",
      "WARNING  : Optional file not found: /mldb/oasc_scenarios/train/Sora/ground_truth.arff\n",
      "INFO     : Read /mldb/oasc_scenarios/train/Sora/description.txt\n",
      "WARNING  : Have not found algorithm_cutoff_memory\n",
      "WARNING  : Have not found features_cutoff_memory\n",
      "WARNING  : Have not found features_stochastic\n",
      "INFO     : Read /mldb/oasc_scenarios/train/Sora/algorithm_runs.arff\n",
      "INFO     : Read /mldb/oasc_scenarios/train/Sora/feature_values.arff\n",
      "INFO     : Read /mldb/oasc_scenarios/train/Sora/feature_runstatus.arff\n",
      "INFO     : Read /mldb/oasc_scenarios/train/Sora/feature_costs.arff\n",
      "INFO     : Read /mldb/oasc_scenarios/train/Sora/cv.arff\n",
      "DEBUG    : Replace all runtime data with PAR10 values for non-OK runs\n",
      "INFO     : Read ASlib scenario: /mldb/oasc_scenarios/train/Svea\n",
      "WARNING  : Optional file not found: /mldb/oasc_scenarios/train/Svea/ground_truth.arff\n",
      "INFO     : Read /mldb/oasc_scenarios/train/Svea/description.txt\n",
      "WARNING  : Have not found algorithm_cutoff_memory\n",
      "WARNING  : Have not found features_cutoff_memory\n",
      "WARNING  : Have not found features_stochastic\n",
      "INFO     : Read /mldb/oasc_scenarios/train/Svea/algorithm_runs.arff\n",
      "INFO     : Read /mldb/oasc_scenarios/train/Svea/feature_values.arff\n",
      "WARNING  : Found 12 duplicated feature vectors\n",
      "WARNING  : Index(['instance_1023', 'instance_1205', 'instance_1207', 'instance_1475',\n",
      "       'instance_1488', 'instance_170', 'instance_364', 'instance_412',\n",
      "       'instance_47', 'instance_613', 'instance_741', 'instance_849',\n",
      "       'instance_901', 'instance_914'],\n",
      "      dtype='object', name='instance_id')\n",
      "INFO     : Read /mldb/oasc_scenarios/train/Svea/feature_runstatus.arff\n",
      "INFO     : Read /mldb/oasc_scenarios/train/Svea/feature_costs.arff\n",
      "INFO     : Read /mldb/oasc_scenarios/train/Svea/cv.arff\n",
      "DEBUG    : Replace all runtime data with PAR10 values for non-OK runs\n",
      "INFO     : Read ASlib scenario: /mldb/oasc_scenarios/train/Titus\n",
      "WARNING  : Optional file not found: /mldb/oasc_scenarios/train/Titus/ground_truth.arff\n",
      "WARNING  : Optional file not found: /mldb/oasc_scenarios/train/Titus/feature_costs.arff\n",
      "INFO     : Read /mldb/oasc_scenarios/train/Titus/description.txt\n",
      "WARNING  : Have not found algorithm_cutoff_memory\n",
      "WARNING  : Have not found features_cutoff_memory\n",
      "WARNING  : Have not found features_stochastic\n",
      "DEBUG    : Since we optimize quality, we use runtime cutoff of 1.\n",
      "INFO     : Read /mldb/oasc_scenarios/train/Titus/algorithm_runs.arff\n",
      "INFO     : Read /mldb/oasc_scenarios/train/Titus/feature_values.arff\n",
      "INFO     : Read /mldb/oasc_scenarios/train/Titus/feature_runstatus.arff\n",
      "INFO     : Read /mldb/oasc_scenarios/train/Titus/cv.arff\n",
      "INFO     : Multiply all performance data by -1, since autofolio minimizes the scores but the objective is to maximize\n"
     ]
    }
   ],
   "source": [
    "args.training_scenarios_dir = \"/mldb/oasc_scenarios/train/\"\n",
    "training_scenarios = automl_utils.load_all_scenarios(args.training_scenarios_dir)"
   ]
  },
  {
   "cell_type": "code",
   "execution_count": 43,
   "metadata": {},
   "outputs": [],
   "source": [
    "scenario = training_scenarios['Svea']\n",
    "feature_dependency_graph = automl_utils.extract_feature_step_dependency_graph(scenario)\n",
    "feature_topo_order = nx.topological_sort(feature_dependency_graph)"
   ]
  },
  {
   "cell_type": "code",
   "execution_count": 52,
   "metadata": {
    "collapsed": true
   },
   "outputs": [],
   "source": [
    "automl_utils.add_automl_values_to_args(args, total_training_time=20)"
   ]
  },
  {
   "cell_type": "code",
   "execution_count": 78,
   "metadata": {
    "collapsed": true
   },
   "outputs": [],
   "source": [
    "import mlxtend.feature_selection\n",
    "from sklearn.utils.validation import check_is_fitted\n",
    "\n",
    "from as_auto_sklearn.as_asl_ensemble import ASaslPipeline\n",
    "from as_auto_sklearn.validate import Validator\n",
    "\n",
    "import misc.automl_utils as automl_utils\n",
    "\n",
    "class SequentialFeatureStepSelector:\n",
    "    \"\"\" This class uses a greedy, forward sequential feature search\n",
    "    to select the optimal set of feature steps. Conceptually, it is\n",
    "    essentially the same as the SequentialFeatureSelector from mlxtend:\n",
    "    \n",
    "        https://rasbt.github.io/mlxtend/user_guide/feature_selection/SequentialFeatureSelector/\n",
    "        \n",
    "    However, it includes the following differences:\n",
    "    \n",
    "    * It is tailored to work for the feature steps as defined for\n",
    "      ASlib scenarios. Namely, it includes groups of features at\n",
    "      a time, and it ensures feature dependencies are respected.\n",
    "      \n",
    "    * It specifically uses PAR10 as the selection criterion.\n",
    "      \n",
    "    * It only supports forward search.\n",
    "    \n",
    "    * It never places any feature steps on an \"exclude\" list.\n",
    "    \"\"\"\n",
    "    def __init__(self, args, max_feature_steps=np.inf):\n",
    "        self.args = args\n",
    "        self.max_feature_steps = max_feature_steps\n",
    "    \n",
    "    def _get_par10(self, feature_steps):\n",
    "        \n",
    "        total_par10 = 0.0\n",
    "        total_timeouts = 0\n",
    "        total_solved = 0\n",
    "        \n",
    "        for fold in self.args.folds:\n",
    "\n",
    "            # first, split the scenario into training and testing\n",
    "            testing, training = scenario.get_split(fold)\n",
    "\n",
    "            # construct and fit a pipeline with the indicated feature steps\n",
    "            pipeline = ASaslPipeline(args, feature_steps=feature_steps)\n",
    "            pipeline_fit = pipeline.fit(scenario=training)\n",
    "            \n",
    "            # now, check the par10 both with and without presolving\n",
    "            min_par10 = np.inf\n",
    "            \n",
    "            for enable_presolving in [True, False]:\n",
    "                schedules = pipeline_fit.create_solver_schedules(testing, enable_presolving)\n",
    "\n",
    "                # use par10 to evaluate the pipeline\n",
    "                validator = Validator()\n",
    "                if scenario.performance_type[0] == \"runtime\":\n",
    "                    stat = validator.validate_runtime(schedules=schedules, test_scenario=testing, show=True)\n",
    "                else:\n",
    "                    stat = validator.validate_quality(schedules=schedules, test_scenario=testing, show=True)\n",
    "                    \n",
    "                if stat.par10 < min_par10:\n",
    "                    min_par10 = stat.par10\n",
    "                \n",
    "            total_par10 += min_par10\n",
    "            \n",
    "            # these don't really matter. we just need them for normalization\n",
    "            total_timeouts += stat.timeouts\n",
    "            total_solved += stat.solved\n",
    "\n",
    "        total = total_timeouts + total_solved\n",
    "        total_par10 = total_par10 / total\n",
    "\n",
    "        return total_par10\n",
    "\n",
    "    def _find_best_feature_step(self):\n",
    "        \"\"\" Based on the current set of included feature steps, find\n",
    "        the next best one to include\n",
    "        \"\"\"\n",
    "\n",
    "        best_feature_step = None\n",
    "        best_par10 = np.inf\n",
    "\n",
    "        for feature_step in self.remaining_feature_steps_:\n",
    "            test_feature_steps = self.cur_feature_steps_ + [feature_step]\n",
    "\n",
    "            if not automl_utils.check_all_dependencies(self.scenario, test_feature_steps):\n",
    "                continue\n",
    "\n",
    "            test_par10 = self._get_par10(test_feature_steps)\n",
    "            if test_par10 < best_par10:\n",
    "                best_par10 = test_par10\n",
    "                best_feature_step = feature_step\n",
    "\n",
    "        return (best_feature_step, best_par10)\n",
    "        \n",
    "    def fit(self, scenario):\n",
    "        \"\"\" Select the optimal set of feature steps according to PAR10\n",
    "        \n",
    "        Parameters\n",
    "        ----------\n",
    "        scenario: ASlibScenario\n",
    "            The scenario\n",
    "            \n",
    "        Returns\n",
    "        -------\n",
    "        self\n",
    "        \"\"\"\n",
    "        self.scenario = scenario\n",
    "        self.cur_feature_steps_ = []\n",
    "        self.cur_par10_ = np.inf\n",
    "\n",
    "        # make sure to use a copy\n",
    "        self.remaining_feature_steps_ = list(scenario.feature_steps)\n",
    "\n",
    "        while len(self.cur_feature_steps_) <= self.max_feature_steps:\n",
    "            (best_feature_step, best_par10) = self._find_best_feature_step()\n",
    "\n",
    "            if best_par10 > self.cur_par10_:\n",
    "                break\n",
    "\n",
    "            self.cur_feature_steps_.append(best_feature_step)\n",
    "            self.remaining_feature_steps_.remove(best_feature_step)\n",
    "\n",
    "            self.cur_par10_ = best_par10\n",
    "            \n",
    "        return self\n",
    "    \n",
    "    def get_transformer(self):\n",
    "        \"\"\" Get a ColumnSelector based on the selected feature steps\n",
    "        \"\"\"\n",
    "        \n",
    "        check_is_fitted(self, \"cur_feature_steps_\")\n",
    "        \n",
    "        selected_features = automl_utils.extract_feature_names(\n",
    "            self.scenario, \n",
    "            self.cur_feature_steps_\n",
    "        )\n",
    "            \n",
    "        feature_selector = mlxtend.feature_selection.ColumnSelector(\n",
    "            cols=selected_features)\n",
    "        \n",
    "        return feature_selector"
   ]
  },
  {
   "cell_type": "code",
   "execution_count": 79,
   "metadata": {
    "collapsed": true
   },
   "outputs": [],
   "source": [
    "args.num_cpus = 1\n",
    "args.folds = [8, 10]\n",
    "args.presolver_budget = 0.001\n",
    "args.presolver_min_fast_solutions = 0.5"
   ]
  },
  {
   "cell_type": "code",
   "execution_count": null,
   "metadata": {},
   "outputs": [
    {
     "name": "stdout",
     "output_type": "stream",
     "text": [
      "Time limit for a single run is higher than total time limit. Capping the limit for a single run to the total time given to SMAC (19.551478)\n",
      "[WARNING] [2017-08-29 01:51:50,680:AutoMLSMBO(8675309)::c01a88f14ba24a818c4f75e0e9f4f0d8] Could not find meta-data directory /home/bmmalone/.virtualenvs/algorithm-selection/lib/python3.6/site-packages/autosklearn/metalearning/files/mean_squared_error_regression_dense\n"
     ]
    },
    {
     "name": "stderr",
     "output_type": "stream",
     "text": [
      "/home/bmmalone/.virtualenvs/algorithm-selection/lib/python3.6/site-packages/autosklearn/smbo.py:737: RuntimeWarning: divide by zero encountered in true_divide\n",
      "  (1. - dataset_minimum))\n",
      "/home/bmmalone/.virtualenvs/algorithm-selection/lib/python3.6/site-packages/autosklearn/smbo.py:737: RuntimeWarning: invalid value encountered in true_divide\n",
      "  (1. - dataset_minimum))\n",
      "/home/bmmalone/.virtualenvs/algorithm-selection/lib/python3.6/site-packages/autosklearn/smbo.py:738: RuntimeWarning: invalid value encountered in greater\n",
      "  Y_cfg[:, 0][Y_cfg[:, 0] > 2] = 2\n",
      "/home/bmmalone/.virtualenvs/algorithm-selection/lib/python3.6/site-packages/scipy/stats/_distn_infrastructure.py:879: RuntimeWarning: invalid value encountered in greater\n",
      "  return (self.a < x) & (x < self.b)\n",
      "/home/bmmalone/.virtualenvs/algorithm-selection/lib/python3.6/site-packages/scipy/stats/_distn_infrastructure.py:879: RuntimeWarning: invalid value encountered in less\n",
      "  return (self.a < x) & (x < self.b)\n",
      "/home/bmmalone/.virtualenvs/algorithm-selection/lib/python3.6/site-packages/scipy/stats/_distn_infrastructure.py:1735: RuntimeWarning: invalid value encountered in greater_equal\n",
      "  cond2 = (x >= self.b) & cond0\n",
      "/home/bmmalone/.virtualenvs/algorithm-selection/lib/python3.6/site-packages/scipy/stats/_distn_infrastructure.py:876: RuntimeWarning: invalid value encountered in greater_equal\n",
      "  return (self.a <= x) & (x <= self.b)\n",
      "/home/bmmalone/.virtualenvs/algorithm-selection/lib/python3.6/site-packages/scipy/stats/_distn_infrastructure.py:876: RuntimeWarning: invalid value encountered in less_equal\n",
      "  return (self.a <= x) & (x <= self.b)\n",
      "/home/bmmalone/.virtualenvs/algorithm-selection/lib/python3.6/site-packages/smac/optimizer/acquisition.py:164: RuntimeWarning: invalid value encountered in less\n",
      "  if (f < 0).any():\n"
     ]
    },
    {
     "name": "stdout",
     "output_type": "stream",
     "text": [
      "Time limit for a single run is higher than total time limit. Capping the limit for a single run to the total time given to SMAC (19.551016)\n",
      "[WARNING] [2017-08-29 01:52:05,697:AutoMLSMBO(8675309)::c01a88f14ba24a818c4f75e0e9f4f0d8] Could not find meta-data directory /home/bmmalone/.virtualenvs/algorithm-selection/lib/python3.6/site-packages/autosklearn/metalearning/files/mean_squared_error_regression_dense\n"
     ]
    },
    {
     "name": "stderr",
     "output_type": "stream",
     "text": [
      "Process pynisher function call:\n",
      "Traceback (most recent call last):\n",
      "  File \"/home/bmmalone/local/lib/python3.6/multiprocessing/process.py\", line 249, in _bootstrap\n",
      "    self.run()\n",
      "  File \"/home/bmmalone/local/lib/python3.6/multiprocessing/process.py\", line 93, in run\n",
      "    self._target(*self._args, **self._kwargs)\n",
      "  File \"/home/bmmalone/.virtualenvs/algorithm-selection/lib/python3.6/site-packages/pynisher/limit_function_call.py\", line 119, in subprocess_func\n",
      "    for child in p.children(recursive=True):\n",
      "  File \"/home/bmmalone/.virtualenvs/algorithm-selection/lib/python3.6/site-packages/psutil/__init__.py\", line 343, in wrapper\n",
      "    return fun(self, *args, **kwargs)\n",
      "  File \"/home/bmmalone/.virtualenvs/algorithm-selection/lib/python3.6/site-packages/psutil/__init__.py\", line 964, in children\n",
      "    for p in process_iter():\n",
      "  File \"/home/bmmalone/.virtualenvs/algorithm-selection/lib/python3.6/site-packages/psutil/__init__.py\", line 1487, in process_iter\n",
      "    yield add(pid)\n",
      "  File \"/home/bmmalone/.virtualenvs/algorithm-selection/lib/python3.6/site-packages/psutil/__init__.py\", line 1469, in add\n",
      "    proc = Process(pid)\n",
      "  File \"/home/bmmalone/.virtualenvs/algorithm-selection/lib/python3.6/site-packages/psutil/__init__.py\", line 381, in __init__\n",
      "    self._init(pid)\n",
      "  File \"/home/bmmalone/.virtualenvs/algorithm-selection/lib/python3.6/site-packages/psutil/__init__.py\", line 408, in _init\n",
      "    self.create_time()\n",
      "  File \"/home/bmmalone/.virtualenvs/algorithm-selection/lib/python3.6/site-packages/psutil/__init__.py\", line 734, in create_time\n",
      "    self._create_time = self._proc.create_time()\n",
      "  File \"/home/bmmalone/.virtualenvs/algorithm-selection/lib/python3.6/site-packages/psutil/_pslinux.py\", line 1332, in wrapper\n",
      "    return fun(self, *args, **kwargs)\n",
      "  File \"/home/bmmalone/.virtualenvs/algorithm-selection/lib/python3.6/site-packages/psutil/_pslinux.py\", line 1506, in create_time\n",
      "    values = self._parse_stat_file()\n",
      "  File \"/home/bmmalone/.virtualenvs/algorithm-selection/lib/python3.6/site-packages/psutil/_common.py\", line 313, in wrapper\n",
      "    return fun(self)\n",
      "  File \"/home/bmmalone/.virtualenvs/algorithm-selection/lib/python3.6/site-packages/psutil/_pslinux.py\", line 1367, in _parse_stat_file\n",
      "    with open_binary(\"%s/%s/stat\" % (self._procfs_path, self.pid)) as f:\n",
      "  File \"/home/bmmalone/.virtualenvs/algorithm-selection/lib/python3.6/site-packages/psutil/_pslinux.py\", line 190, in open_binary\n",
      "    return open(fname, \"rb\", **kwargs)\n",
      "  File \"/home/bmmalone/.virtualenvs/algorithm-selection/lib/python3.6/site-packages/pynisher/limit_function_call.py\", line 31, in handler\n",
      "    raise(TimeoutException)\n",
      "pynisher.limit_function_call.TimeoutException\n"
     ]
    },
    {
     "name": "stdout",
     "output_type": "stream",
     "text": [
      "Time limit for a single run is higher than total time limit. Capping the limit for a single run to the total time given to SMAC (19.563866)\n",
      "[WARNING] [2017-08-29 01:52:20,317:AutoMLSMBO(8675309)::c01a88f14ba24a818c4f75e0e9f4f0d8] Could not find meta-data directory /home/bmmalone/.virtualenvs/algorithm-selection/lib/python3.6/site-packages/autosklearn/metalearning/files/mean_squared_error_regression_dense\n"
     ]
    },
    {
     "name": "stderr",
     "output_type": "stream",
     "text": [
      "You are already timing task: index_run2\n",
      "/home/bmmalone/.virtualenvs/algorithm-selection/lib/python3.6/site-packages/autosklearn/smbo.py:737: RuntimeWarning: divide by zero encountered in true_divide\n",
      "  (1. - dataset_minimum))\n",
      "/home/bmmalone/.virtualenvs/algorithm-selection/lib/python3.6/site-packages/autosklearn/smbo.py:737: RuntimeWarning: invalid value encountered in true_divide\n",
      "  (1. - dataset_minimum))\n",
      "/home/bmmalone/.virtualenvs/algorithm-selection/lib/python3.6/site-packages/autosklearn/smbo.py:738: RuntimeWarning: invalid value encountered in greater\n",
      "  Y_cfg[:, 0][Y_cfg[:, 0] > 2] = 2\n",
      "/home/bmmalone/.virtualenvs/algorithm-selection/lib/python3.6/site-packages/scipy/stats/_distn_infrastructure.py:879: RuntimeWarning: invalid value encountered in greater\n",
      "  return (self.a < x) & (x < self.b)\n",
      "/home/bmmalone/.virtualenvs/algorithm-selection/lib/python3.6/site-packages/scipy/stats/_distn_infrastructure.py:879: RuntimeWarning: invalid value encountered in less\n",
      "  return (self.a < x) & (x < self.b)\n",
      "/home/bmmalone/.virtualenvs/algorithm-selection/lib/python3.6/site-packages/scipy/stats/_distn_infrastructure.py:1735: RuntimeWarning: invalid value encountered in greater_equal\n",
      "  cond2 = (x >= self.b) & cond0\n",
      "/home/bmmalone/.virtualenvs/algorithm-selection/lib/python3.6/site-packages/scipy/stats/_distn_infrastructure.py:876: RuntimeWarning: invalid value encountered in greater_equal\n",
      "  return (self.a <= x) & (x <= self.b)\n",
      "/home/bmmalone/.virtualenvs/algorithm-selection/lib/python3.6/site-packages/scipy/stats/_distn_infrastructure.py:876: RuntimeWarning: invalid value encountered in less_equal\n",
      "  return (self.a <= x) & (x <= self.b)\n",
      "/home/bmmalone/.virtualenvs/algorithm-selection/lib/python3.6/site-packages/smac/optimizer/acquisition.py:164: RuntimeWarning: invalid value encountered in less\n",
      "  if (f < 0).any():\n"
     ]
    },
    {
     "name": "stdout",
     "output_type": "stream",
     "text": [
      "Time limit for a single run is higher than total time limit. Capping the limit for a single run to the total time given to SMAC (19.560424)\n",
      "[WARNING] [2017-08-29 01:52:35,367:AutoMLSMBO(8675309)::c01a88f14ba24a818c4f75e0e9f4f0d8] Could not find meta-data directory /home/bmmalone/.virtualenvs/algorithm-selection/lib/python3.6/site-packages/autosklearn/metalearning/files/mean_squared_error_regression_dense\n",
      "Time limit for a single run is higher than total time limit. Capping the limit for a single run to the total time given to SMAC (19.507327)\n",
      "[WARNING] [2017-08-29 01:52:50,983:AutoMLSMBO(8675309)::c01a88f14ba24a818c4f75e0e9f4f0d8] Could not find meta-data directory /home/bmmalone/.virtualenvs/algorithm-selection/lib/python3.6/site-packages/autosklearn/metalearning/files/mean_squared_error_regression_dense\n"
     ]
    },
    {
     "name": "stderr",
     "output_type": "stream",
     "text": [
      "/home/bmmalone/.virtualenvs/algorithm-selection/lib/python3.6/site-packages/autosklearn/smbo.py:737: RuntimeWarning: divide by zero encountered in true_divide\n",
      "  (1. - dataset_minimum))\n",
      "/home/bmmalone/.virtualenvs/algorithm-selection/lib/python3.6/site-packages/autosklearn/smbo.py:737: RuntimeWarning: invalid value encountered in true_divide\n",
      "  (1. - dataset_minimum))\n",
      "/home/bmmalone/.virtualenvs/algorithm-selection/lib/python3.6/site-packages/autosklearn/smbo.py:738: RuntimeWarning: invalid value encountered in greater\n",
      "  Y_cfg[:, 0][Y_cfg[:, 0] > 2] = 2\n",
      "/home/bmmalone/.virtualenvs/algorithm-selection/lib/python3.6/site-packages/scipy/stats/_distn_infrastructure.py:879: RuntimeWarning: invalid value encountered in greater\n",
      "  return (self.a < x) & (x < self.b)\n",
      "/home/bmmalone/.virtualenvs/algorithm-selection/lib/python3.6/site-packages/scipy/stats/_distn_infrastructure.py:879: RuntimeWarning: invalid value encountered in less\n",
      "  return (self.a < x) & (x < self.b)\n",
      "/home/bmmalone/.virtualenvs/algorithm-selection/lib/python3.6/site-packages/scipy/stats/_distn_infrastructure.py:1735: RuntimeWarning: invalid value encountered in greater_equal\n",
      "  cond2 = (x >= self.b) & cond0\n",
      "/home/bmmalone/.virtualenvs/algorithm-selection/lib/python3.6/site-packages/scipy/stats/_distn_infrastructure.py:876: RuntimeWarning: invalid value encountered in greater_equal\n",
      "  return (self.a <= x) & (x <= self.b)\n",
      "/home/bmmalone/.virtualenvs/algorithm-selection/lib/python3.6/site-packages/scipy/stats/_distn_infrastructure.py:876: RuntimeWarning: invalid value encountered in less_equal\n",
      "  return (self.a <= x) & (x <= self.b)\n",
      "/home/bmmalone/.virtualenvs/algorithm-selection/lib/python3.6/site-packages/smac/optimizer/acquisition.py:164: RuntimeWarning: invalid value encountered in less\n",
      "  if (f < 0).any():\n"
     ]
    },
    {
     "name": "stdout",
     "output_type": "stream",
     "text": [
      "Time limit for a single run is higher than total time limit. Capping the limit for a single run to the total time given to SMAC (19.558845)\n",
      "[WARNING] [2017-08-29 01:53:06,322:AutoMLSMBO(8675309)::c01a88f14ba24a818c4f75e0e9f4f0d8] Could not find meta-data directory /home/bmmalone/.virtualenvs/algorithm-selection/lib/python3.6/site-packages/autosklearn/metalearning/files/mean_squared_error_regression_dense\n"
     ]
    },
    {
     "name": "stderr",
     "output_type": "stream",
     "text": [
      "/home/bmmalone/.virtualenvs/algorithm-selection/lib/python3.6/site-packages/autosklearn/smbo.py:737: RuntimeWarning: divide by zero encountered in true_divide\n",
      "  (1. - dataset_minimum))\n",
      "/home/bmmalone/.virtualenvs/algorithm-selection/lib/python3.6/site-packages/autosklearn/smbo.py:737: RuntimeWarning: invalid value encountered in true_divide\n",
      "  (1. - dataset_minimum))\n",
      "/home/bmmalone/.virtualenvs/algorithm-selection/lib/python3.6/site-packages/autosklearn/smbo.py:738: RuntimeWarning: invalid value encountered in greater\n",
      "  Y_cfg[:, 0][Y_cfg[:, 0] > 2] = 2\n",
      "/home/bmmalone/.virtualenvs/algorithm-selection/lib/python3.6/site-packages/scipy/stats/_distn_infrastructure.py:879: RuntimeWarning: invalid value encountered in greater\n",
      "  return (self.a < x) & (x < self.b)\n",
      "/home/bmmalone/.virtualenvs/algorithm-selection/lib/python3.6/site-packages/scipy/stats/_distn_infrastructure.py:879: RuntimeWarning: invalid value encountered in less\n",
      "  return (self.a < x) & (x < self.b)\n",
      "/home/bmmalone/.virtualenvs/algorithm-selection/lib/python3.6/site-packages/scipy/stats/_distn_infrastructure.py:1735: RuntimeWarning: invalid value encountered in greater_equal\n",
      "  cond2 = (x >= self.b) & cond0\n",
      "/home/bmmalone/.virtualenvs/algorithm-selection/lib/python3.6/site-packages/scipy/stats/_distn_infrastructure.py:876: RuntimeWarning: invalid value encountered in greater_equal\n",
      "  return (self.a <= x) & (x <= self.b)\n",
      "/home/bmmalone/.virtualenvs/algorithm-selection/lib/python3.6/site-packages/scipy/stats/_distn_infrastructure.py:876: RuntimeWarning: invalid value encountered in less_equal\n",
      "  return (self.a <= x) & (x <= self.b)\n",
      "/home/bmmalone/.virtualenvs/algorithm-selection/lib/python3.6/site-packages/smac/optimizer/acquisition.py:164: RuntimeWarning: invalid value encountered in less\n",
      "  if (f < 0).any():\n"
     ]
    },
    {
     "name": "stdout",
     "output_type": "stream",
     "text": [
      "Time limit for a single run is higher than total time limit. Capping the limit for a single run to the total time given to SMAC (19.394884)\n",
      "[WARNING] [2017-08-29 01:53:21,972:AutoMLSMBO(8675309)::c01a88f14ba24a818c4f75e0e9f4f0d8] Could not find meta-data directory /home/bmmalone/.virtualenvs/algorithm-selection/lib/python3.6/site-packages/autosklearn/metalearning/files/mean_squared_error_regression_dense\n",
      "Time limit for a single run is higher than total time limit. Capping the limit for a single run to the total time given to SMAC (19.553108)\n",
      "[WARNING] [2017-08-29 01:53:37,766:AutoMLSMBO(8675309)::c01a88f14ba24a818c4f75e0e9f4f0d8] Could not find meta-data directory /home/bmmalone/.virtualenvs/algorithm-selection/lib/python3.6/site-packages/autosklearn/metalearning/files/mean_squared_error_regression_dense\n"
     ]
    },
    {
     "name": "stderr",
     "output_type": "stream",
     "text": [
      "/home/bmmalone/.virtualenvs/algorithm-selection/lib/python3.6/site-packages/autosklearn/smbo.py:737: RuntimeWarning: divide by zero encountered in true_divide\n",
      "  (1. - dataset_minimum))\n",
      "/home/bmmalone/.virtualenvs/algorithm-selection/lib/python3.6/site-packages/autosklearn/smbo.py:737: RuntimeWarning: invalid value encountered in true_divide\n",
      "  (1. - dataset_minimum))\n",
      "/home/bmmalone/.virtualenvs/algorithm-selection/lib/python3.6/site-packages/autosklearn/smbo.py:738: RuntimeWarning: invalid value encountered in greater\n",
      "  Y_cfg[:, 0][Y_cfg[:, 0] > 2] = 2\n",
      "/home/bmmalone/.virtualenvs/algorithm-selection/lib/python3.6/site-packages/scipy/stats/_distn_infrastructure.py:879: RuntimeWarning: invalid value encountered in greater\n",
      "  return (self.a < x) & (x < self.b)\n",
      "/home/bmmalone/.virtualenvs/algorithm-selection/lib/python3.6/site-packages/scipy/stats/_distn_infrastructure.py:879: RuntimeWarning: invalid value encountered in less\n",
      "  return (self.a < x) & (x < self.b)\n",
      "/home/bmmalone/.virtualenvs/algorithm-selection/lib/python3.6/site-packages/scipy/stats/_distn_infrastructure.py:1735: RuntimeWarning: invalid value encountered in greater_equal\n",
      "  cond2 = (x >= self.b) & cond0\n",
      "/home/bmmalone/.virtualenvs/algorithm-selection/lib/python3.6/site-packages/scipy/stats/_distn_infrastructure.py:876: RuntimeWarning: invalid value encountered in greater_equal\n",
      "  return (self.a <= x) & (x <= self.b)\n",
      "/home/bmmalone/.virtualenvs/algorithm-selection/lib/python3.6/site-packages/scipy/stats/_distn_infrastructure.py:876: RuntimeWarning: invalid value encountered in less_equal\n",
      "  return (self.a <= x) & (x <= self.b)\n",
      "/home/bmmalone/.virtualenvs/algorithm-selection/lib/python3.6/site-packages/smac/optimizer/acquisition.py:164: RuntimeWarning: invalid value encountered in less\n",
      "  if (f < 0).any():\n"
     ]
    },
    {
     "name": "stdout",
     "output_type": "stream",
     "text": [
      "Time limit for a single run is higher than total time limit. Capping the limit for a single run to the total time given to SMAC (19.520008)\n",
      "[WARNING] [2017-08-29 01:53:54,708:smac.intensification.intensification.Intensifier] Challenger was the same as the current incumbent; Skipping challenger\n",
      "[WARNING] [2017-08-29 01:53:54,708:smac.intensification.intensification.Intensifier] Challenger was the same as the current incumbent; Skipping challenger\n",
      "[WARNING] [2017-08-29 01:54:02,818:smac.intensification.intensification.Intensifier] Challenger was the same as the current incumbent; Skipping challenger\n",
      "[WARNING] [2017-08-29 01:54:02,818:smac.intensification.intensification.Intensifier] Challenger was the same as the current incumbent; Skipping challenger\n",
      "Time limit for a single run is higher than total time limit. Capping the limit for a single run to the total time given to SMAC (19.238264)\n",
      "[WARNING] [2017-08-29 01:54:10,042:AutoMLSMBO(8675309)::5af70fcfa06bc9e68f03fba187bd05e4] Could not find meta-data directory /home/bmmalone/.virtualenvs/algorithm-selection/lib/python3.6/site-packages/autosklearn/metalearning/files/mean_squared_error_regression_dense\n"
     ]
    },
    {
     "name": "stderr",
     "output_type": "stream",
     "text": [
      "/home/bmmalone/.virtualenvs/algorithm-selection/lib/python3.6/site-packages/autosklearn/smbo.py:737: RuntimeWarning: divide by zero encountered in true_divide\n",
      "  (1. - dataset_minimum))\n",
      "/home/bmmalone/.virtualenvs/algorithm-selection/lib/python3.6/site-packages/autosklearn/smbo.py:737: RuntimeWarning: invalid value encountered in true_divide\n",
      "  (1. - dataset_minimum))\n",
      "/home/bmmalone/.virtualenvs/algorithm-selection/lib/python3.6/site-packages/autosklearn/smbo.py:738: RuntimeWarning: invalid value encountered in greater\n",
      "  Y_cfg[:, 0][Y_cfg[:, 0] > 2] = 2\n",
      "/home/bmmalone/.virtualenvs/algorithm-selection/lib/python3.6/site-packages/scipy/stats/_distn_infrastructure.py:879: RuntimeWarning: invalid value encountered in greater\n",
      "  return (self.a < x) & (x < self.b)\n",
      "/home/bmmalone/.virtualenvs/algorithm-selection/lib/python3.6/site-packages/scipy/stats/_distn_infrastructure.py:879: RuntimeWarning: invalid value encountered in less\n",
      "  return (self.a < x) & (x < self.b)\n",
      "/home/bmmalone/.virtualenvs/algorithm-selection/lib/python3.6/site-packages/scipy/stats/_distn_infrastructure.py:1735: RuntimeWarning: invalid value encountered in greater_equal\n",
      "  cond2 = (x >= self.b) & cond0\n",
      "/home/bmmalone/.virtualenvs/algorithm-selection/lib/python3.6/site-packages/scipy/stats/_distn_infrastructure.py:876: RuntimeWarning: invalid value encountered in greater_equal\n",
      "  return (self.a <= x) & (x <= self.b)\n",
      "/home/bmmalone/.virtualenvs/algorithm-selection/lib/python3.6/site-packages/scipy/stats/_distn_infrastructure.py:876: RuntimeWarning: invalid value encountered in less_equal\n",
      "  return (self.a <= x) & (x <= self.b)\n",
      "/home/bmmalone/.virtualenvs/algorithm-selection/lib/python3.6/site-packages/smac/optimizer/acquisition.py:164: RuntimeWarning: invalid value encountered in less\n",
      "  if (f < 0).any():\n"
     ]
    },
    {
     "name": "stdout",
     "output_type": "stream",
     "text": [
      "Time limit for a single run is higher than total time limit. Capping the limit for a single run to the total time given to SMAC (19.554410)\n",
      "[WARNING] [2017-08-29 01:54:24,657:AutoMLSMBO(8675309)::5af70fcfa06bc9e68f03fba187bd05e4] Could not find meta-data directory /home/bmmalone/.virtualenvs/algorithm-selection/lib/python3.6/site-packages/autosklearn/metalearning/files/mean_squared_error_regression_dense\n",
      "Time limit for a single run is higher than total time limit. Capping the limit for a single run to the total time given to SMAC (19.570277)\n",
      "[WARNING] [2017-08-29 01:54:39,266:AutoMLSMBO(8675309)::5af70fcfa06bc9e68f03fba187bd05e4] Could not find meta-data directory /home/bmmalone/.virtualenvs/algorithm-selection/lib/python3.6/site-packages/autosklearn/metalearning/files/mean_squared_error_regression_dense\n"
     ]
    },
    {
     "name": "stderr",
     "output_type": "stream",
     "text": [
      "/home/bmmalone/.virtualenvs/algorithm-selection/lib/python3.6/site-packages/autosklearn/smbo.py:737: RuntimeWarning: divide by zero encountered in true_divide\n",
      "  (1. - dataset_minimum))\n",
      "/home/bmmalone/.virtualenvs/algorithm-selection/lib/python3.6/site-packages/autosklearn/smbo.py:737: RuntimeWarning: invalid value encountered in true_divide\n",
      "  (1. - dataset_minimum))\n",
      "/home/bmmalone/.virtualenvs/algorithm-selection/lib/python3.6/site-packages/autosklearn/smbo.py:738: RuntimeWarning: invalid value encountered in greater\n",
      "  Y_cfg[:, 0][Y_cfg[:, 0] > 2] = 2\n",
      "/home/bmmalone/.virtualenvs/algorithm-selection/lib/python3.6/site-packages/scipy/stats/_distn_infrastructure.py:879: RuntimeWarning: invalid value encountered in greater\n",
      "  return (self.a < x) & (x < self.b)\n",
      "/home/bmmalone/.virtualenvs/algorithm-selection/lib/python3.6/site-packages/scipy/stats/_distn_infrastructure.py:879: RuntimeWarning: invalid value encountered in less\n",
      "  return (self.a < x) & (x < self.b)\n",
      "/home/bmmalone/.virtualenvs/algorithm-selection/lib/python3.6/site-packages/scipy/stats/_distn_infrastructure.py:1735: RuntimeWarning: invalid value encountered in greater_equal\n",
      "  cond2 = (x >= self.b) & cond0\n",
      "/home/bmmalone/.virtualenvs/algorithm-selection/lib/python3.6/site-packages/scipy/stats/_distn_infrastructure.py:876: RuntimeWarning: invalid value encountered in greater_equal\n",
      "  return (self.a <= x) & (x <= self.b)\n",
      "/home/bmmalone/.virtualenvs/algorithm-selection/lib/python3.6/site-packages/scipy/stats/_distn_infrastructure.py:876: RuntimeWarning: invalid value encountered in less_equal\n",
      "  return (self.a <= x) & (x <= self.b)\n",
      "/home/bmmalone/.virtualenvs/algorithm-selection/lib/python3.6/site-packages/smac/optimizer/acquisition.py:164: RuntimeWarning: invalid value encountered in less\n",
      "  if (f < 0).any():\n"
     ]
    },
    {
     "name": "stdout",
     "output_type": "stream",
     "text": [
      "Time limit for a single run is higher than total time limit. Capping the limit for a single run to the total time given to SMAC (19.562534)\n",
      "[WARNING] [2017-08-29 01:54:54,484:AutoMLSMBO(8675309)::5af70fcfa06bc9e68f03fba187bd05e4] Could not find meta-data directory /home/bmmalone/.virtualenvs/algorithm-selection/lib/python3.6/site-packages/autosklearn/metalearning/files/mean_squared_error_regression_dense\n"
     ]
    },
    {
     "name": "stderr",
     "output_type": "stream",
     "text": [
      "/home/bmmalone/.virtualenvs/algorithm-selection/lib/python3.6/site-packages/autosklearn/smbo.py:737: RuntimeWarning: divide by zero encountered in true_divide\n",
      "  (1. - dataset_minimum))\n",
      "/home/bmmalone/.virtualenvs/algorithm-selection/lib/python3.6/site-packages/autosklearn/smbo.py:737: RuntimeWarning: invalid value encountered in true_divide\n",
      "  (1. - dataset_minimum))\n",
      "/home/bmmalone/.virtualenvs/algorithm-selection/lib/python3.6/site-packages/autosklearn/smbo.py:738: RuntimeWarning: invalid value encountered in greater\n",
      "  Y_cfg[:, 0][Y_cfg[:, 0] > 2] = 2\n",
      "/home/bmmalone/.virtualenvs/algorithm-selection/lib/python3.6/site-packages/scipy/stats/_distn_infrastructure.py:879: RuntimeWarning: invalid value encountered in greater\n",
      "  return (self.a < x) & (x < self.b)\n",
      "/home/bmmalone/.virtualenvs/algorithm-selection/lib/python3.6/site-packages/scipy/stats/_distn_infrastructure.py:879: RuntimeWarning: invalid value encountered in less\n",
      "  return (self.a < x) & (x < self.b)\n",
      "/home/bmmalone/.virtualenvs/algorithm-selection/lib/python3.6/site-packages/scipy/stats/_distn_infrastructure.py:1735: RuntimeWarning: invalid value encountered in greater_equal\n",
      "  cond2 = (x >= self.b) & cond0\n",
      "/home/bmmalone/.virtualenvs/algorithm-selection/lib/python3.6/site-packages/scipy/stats/_distn_infrastructure.py:876: RuntimeWarning: invalid value encountered in greater_equal\n",
      "  return (self.a <= x) & (x <= self.b)\n",
      "/home/bmmalone/.virtualenvs/algorithm-selection/lib/python3.6/site-packages/scipy/stats/_distn_infrastructure.py:876: RuntimeWarning: invalid value encountered in less_equal\n",
      "  return (self.a <= x) & (x <= self.b)\n",
      "/home/bmmalone/.virtualenvs/algorithm-selection/lib/python3.6/site-packages/smac/optimizer/acquisition.py:164: RuntimeWarning: invalid value encountered in less\n",
      "  if (f < 0).any():\n"
     ]
    },
    {
     "name": "stdout",
     "output_type": "stream",
     "text": [
      "Time limit for a single run is higher than total time limit. Capping the limit for a single run to the total time given to SMAC (19.558894)\n",
      "[WARNING] [2017-08-29 01:55:09,325:AutoMLSMBO(8675309)::5af70fcfa06bc9e68f03fba187bd05e4] Could not find meta-data directory /home/bmmalone/.virtualenvs/algorithm-selection/lib/python3.6/site-packages/autosklearn/metalearning/files/mean_squared_error_regression_dense\n"
     ]
    },
    {
     "name": "stderr",
     "output_type": "stream",
     "text": [
      "/home/bmmalone/.virtualenvs/algorithm-selection/lib/python3.6/site-packages/autosklearn/smbo.py:737: RuntimeWarning: divide by zero encountered in true_divide\n",
      "  (1. - dataset_minimum))\n",
      "/home/bmmalone/.virtualenvs/algorithm-selection/lib/python3.6/site-packages/autosklearn/smbo.py:737: RuntimeWarning: invalid value encountered in true_divide\n",
      "  (1. - dataset_minimum))\n",
      "/home/bmmalone/.virtualenvs/algorithm-selection/lib/python3.6/site-packages/autosklearn/smbo.py:738: RuntimeWarning: invalid value encountered in greater\n",
      "  Y_cfg[:, 0][Y_cfg[:, 0] > 2] = 2\n",
      "/home/bmmalone/.virtualenvs/algorithm-selection/lib/python3.6/site-packages/scipy/stats/_distn_infrastructure.py:879: RuntimeWarning: invalid value encountered in greater\n",
      "  return (self.a < x) & (x < self.b)\n",
      "/home/bmmalone/.virtualenvs/algorithm-selection/lib/python3.6/site-packages/scipy/stats/_distn_infrastructure.py:879: RuntimeWarning: invalid value encountered in less\n",
      "  return (self.a < x) & (x < self.b)\n",
      "/home/bmmalone/.virtualenvs/algorithm-selection/lib/python3.6/site-packages/scipy/stats/_distn_infrastructure.py:1735: RuntimeWarning: invalid value encountered in greater_equal\n",
      "  cond2 = (x >= self.b) & cond0\n",
      "/home/bmmalone/.virtualenvs/algorithm-selection/lib/python3.6/site-packages/scipy/stats/_distn_infrastructure.py:876: RuntimeWarning: invalid value encountered in greater_equal\n",
      "  return (self.a <= x) & (x <= self.b)\n",
      "/home/bmmalone/.virtualenvs/algorithm-selection/lib/python3.6/site-packages/scipy/stats/_distn_infrastructure.py:876: RuntimeWarning: invalid value encountered in less_equal\n",
      "  return (self.a <= x) & (x <= self.b)\n",
      "/home/bmmalone/.virtualenvs/algorithm-selection/lib/python3.6/site-packages/smac/optimizer/acquisition.py:164: RuntimeWarning: invalid value encountered in less\n",
      "  if (f < 0).any():\n"
     ]
    },
    {
     "name": "stdout",
     "output_type": "stream",
     "text": [
      "Time limit for a single run is higher than total time limit. Capping the limit for a single run to the total time given to SMAC (19.563576)\n",
      "[WARNING] [2017-08-29 01:55:24,635:AutoMLSMBO(8675309)::5af70fcfa06bc9e68f03fba187bd05e4] Could not find meta-data directory /home/bmmalone/.virtualenvs/algorithm-selection/lib/python3.6/site-packages/autosklearn/metalearning/files/mean_squared_error_regression_dense\n",
      "Time limit for a single run is higher than total time limit. Capping the limit for a single run to the total time given to SMAC (19.464874)\n",
      "[WARNING] [2017-08-29 01:55:39,649:AutoMLSMBO(8675309)::5af70fcfa06bc9e68f03fba187bd05e4] Could not find meta-data directory /home/bmmalone/.virtualenvs/algorithm-selection/lib/python3.6/site-packages/autosklearn/metalearning/files/mean_squared_error_regression_dense\n"
     ]
    },
    {
     "name": "stderr",
     "output_type": "stream",
     "text": [
      "/home/bmmalone/.virtualenvs/algorithm-selection/lib/python3.6/site-packages/autosklearn/smbo.py:737: RuntimeWarning: divide by zero encountered in true_divide\n",
      "  (1. - dataset_minimum))\n",
      "/home/bmmalone/.virtualenvs/algorithm-selection/lib/python3.6/site-packages/autosklearn/smbo.py:737: RuntimeWarning: invalid value encountered in true_divide\n",
      "  (1. - dataset_minimum))\n",
      "/home/bmmalone/.virtualenvs/algorithm-selection/lib/python3.6/site-packages/autosklearn/smbo.py:738: RuntimeWarning: invalid value encountered in greater\n",
      "  Y_cfg[:, 0][Y_cfg[:, 0] > 2] = 2\n",
      "/home/bmmalone/.virtualenvs/algorithm-selection/lib/python3.6/site-packages/scipy/stats/_distn_infrastructure.py:879: RuntimeWarning: invalid value encountered in greater\n",
      "  return (self.a < x) & (x < self.b)\n",
      "/home/bmmalone/.virtualenvs/algorithm-selection/lib/python3.6/site-packages/scipy/stats/_distn_infrastructure.py:879: RuntimeWarning: invalid value encountered in less\n",
      "  return (self.a < x) & (x < self.b)\n",
      "/home/bmmalone/.virtualenvs/algorithm-selection/lib/python3.6/site-packages/scipy/stats/_distn_infrastructure.py:1735: RuntimeWarning: invalid value encountered in greater_equal\n",
      "  cond2 = (x >= self.b) & cond0\n",
      "/home/bmmalone/.virtualenvs/algorithm-selection/lib/python3.6/site-packages/scipy/stats/_distn_infrastructure.py:876: RuntimeWarning: invalid value encountered in greater_equal\n",
      "  return (self.a <= x) & (x <= self.b)\n",
      "/home/bmmalone/.virtualenvs/algorithm-selection/lib/python3.6/site-packages/scipy/stats/_distn_infrastructure.py:876: RuntimeWarning: invalid value encountered in less_equal\n",
      "  return (self.a <= x) & (x <= self.b)\n",
      "/home/bmmalone/.virtualenvs/algorithm-selection/lib/python3.6/site-packages/smac/optimizer/acquisition.py:164: RuntimeWarning: invalid value encountered in less\n",
      "  if (f < 0).any():\n"
     ]
    },
    {
     "name": "stdout",
     "output_type": "stream",
     "text": [
      "Time limit for a single run is higher than total time limit. Capping the limit for a single run to the total time given to SMAC (19.551971)\n",
      "[WARNING] [2017-08-29 01:55:55,770:AutoMLSMBO(8675309)::5af70fcfa06bc9e68f03fba187bd05e4] Could not find meta-data directory /home/bmmalone/.virtualenvs/algorithm-selection/lib/python3.6/site-packages/autosklearn/metalearning/files/mean_squared_error_regression_dense\n"
     ]
    },
    {
     "name": "stderr",
     "output_type": "stream",
     "text": [
      "/home/bmmalone/.virtualenvs/algorithm-selection/lib/python3.6/site-packages/autosklearn/smbo.py:737: RuntimeWarning: divide by zero encountered in true_divide\n",
      "  (1. - dataset_minimum))\n",
      "/home/bmmalone/.virtualenvs/algorithm-selection/lib/python3.6/site-packages/autosklearn/smbo.py:737: RuntimeWarning: invalid value encountered in true_divide\n",
      "  (1. - dataset_minimum))\n",
      "/home/bmmalone/.virtualenvs/algorithm-selection/lib/python3.6/site-packages/autosklearn/smbo.py:738: RuntimeWarning: invalid value encountered in greater\n",
      "  Y_cfg[:, 0][Y_cfg[:, 0] > 2] = 2\n",
      "/home/bmmalone/.virtualenvs/algorithm-selection/lib/python3.6/site-packages/scipy/stats/_distn_infrastructure.py:879: RuntimeWarning: invalid value encountered in greater\n",
      "  return (self.a < x) & (x < self.b)\n",
      "/home/bmmalone/.virtualenvs/algorithm-selection/lib/python3.6/site-packages/scipy/stats/_distn_infrastructure.py:879: RuntimeWarning: invalid value encountered in less\n",
      "  return (self.a < x) & (x < self.b)\n",
      "/home/bmmalone/.virtualenvs/algorithm-selection/lib/python3.6/site-packages/scipy/stats/_distn_infrastructure.py:1735: RuntimeWarning: invalid value encountered in greater_equal\n",
      "  cond2 = (x >= self.b) & cond0\n",
      "/home/bmmalone/.virtualenvs/algorithm-selection/lib/python3.6/site-packages/scipy/stats/_distn_infrastructure.py:876: RuntimeWarning: invalid value encountered in greater_equal\n",
      "  return (self.a <= x) & (x <= self.b)\n",
      "/home/bmmalone/.virtualenvs/algorithm-selection/lib/python3.6/site-packages/scipy/stats/_distn_infrastructure.py:876: RuntimeWarning: invalid value encountered in less_equal\n",
      "  return (self.a <= x) & (x <= self.b)\n",
      "/home/bmmalone/.virtualenvs/algorithm-selection/lib/python3.6/site-packages/smac/optimizer/acquisition.py:164: RuntimeWarning: invalid value encountered in less\n",
      "  if (f < 0).any():\n"
     ]
    },
    {
     "name": "stdout",
     "output_type": "stream",
     "text": [
      "Time limit for a single run is higher than total time limit. Capping the limit for a single run to the total time given to SMAC (19.503563)\n",
      "[WARNING] [2017-08-29 01:56:13,131:smac.intensification.intensification.Intensifier] Challenger was the same as the current incumbent; Skipping challenger\n",
      "[WARNING] [2017-08-29 01:56:13,131:smac.intensification.intensification.Intensifier] Challenger was the same as the current incumbent; Skipping challenger\n",
      "[WARNING] [2017-08-29 01:56:20,972:smac.intensification.intensification.Intensifier] Challenger was the same as the current incumbent; Skipping challenger\n",
      "[WARNING] [2017-08-29 01:56:20,972:smac.intensification.intensification.Intensifier] Challenger was the same as the current incumbent; Skipping challenger\n",
      "Time limit for a single run is higher than total time limit. Capping the limit for a single run to the total time given to SMAC (19.561878)\n",
      "[WARNING] [2017-08-29 01:56:28,225:AutoMLSMBO(8675309)::f2fc0a385aa724a06ceb0c2ce10015ad] Could not find meta-data directory /home/bmmalone/.virtualenvs/algorithm-selection/lib/python3.6/site-packages/autosklearn/metalearning/files/mean_squared_error_regression_dense\n"
     ]
    },
    {
     "name": "stderr",
     "output_type": "stream",
     "text": [
      "/home/bmmalone/.virtualenvs/algorithm-selection/lib/python3.6/site-packages/autosklearn/smbo.py:737: RuntimeWarning: divide by zero encountered in true_divide\n",
      "  (1. - dataset_minimum))\n",
      "/home/bmmalone/.virtualenvs/algorithm-selection/lib/python3.6/site-packages/autosklearn/smbo.py:737: RuntimeWarning: invalid value encountered in true_divide\n",
      "  (1. - dataset_minimum))\n",
      "/home/bmmalone/.virtualenvs/algorithm-selection/lib/python3.6/site-packages/autosklearn/smbo.py:738: RuntimeWarning: invalid value encountered in greater\n",
      "  Y_cfg[:, 0][Y_cfg[:, 0] > 2] = 2\n",
      "/home/bmmalone/.virtualenvs/algorithm-selection/lib/python3.6/site-packages/scipy/stats/_distn_infrastructure.py:879: RuntimeWarning: invalid value encountered in greater\n",
      "  return (self.a < x) & (x < self.b)\n",
      "/home/bmmalone/.virtualenvs/algorithm-selection/lib/python3.6/site-packages/scipy/stats/_distn_infrastructure.py:879: RuntimeWarning: invalid value encountered in less\n",
      "  return (self.a < x) & (x < self.b)\n",
      "/home/bmmalone/.virtualenvs/algorithm-selection/lib/python3.6/site-packages/scipy/stats/_distn_infrastructure.py:1735: RuntimeWarning: invalid value encountered in greater_equal\n",
      "  cond2 = (x >= self.b) & cond0\n",
      "/home/bmmalone/.virtualenvs/algorithm-selection/lib/python3.6/site-packages/scipy/stats/_distn_infrastructure.py:876: RuntimeWarning: invalid value encountered in greater_equal\n",
      "  return (self.a <= x) & (x <= self.b)\n",
      "/home/bmmalone/.virtualenvs/algorithm-selection/lib/python3.6/site-packages/scipy/stats/_distn_infrastructure.py:876: RuntimeWarning: invalid value encountered in less_equal\n",
      "  return (self.a <= x) & (x <= self.b)\n",
      "/home/bmmalone/.virtualenvs/algorithm-selection/lib/python3.6/site-packages/smac/optimizer/acquisition.py:164: RuntimeWarning: invalid value encountered in less\n",
      "  if (f < 0).any():\n"
     ]
    },
    {
     "name": "stdout",
     "output_type": "stream",
     "text": [
      "Time limit for a single run is higher than total time limit. Capping the limit for a single run to the total time given to SMAC (19.558713)\n",
      "[WARNING] [2017-08-29 01:56:43,408:AutoMLSMBO(8675309)::f2fc0a385aa724a06ceb0c2ce10015ad] Could not find meta-data directory /home/bmmalone/.virtualenvs/algorithm-selection/lib/python3.6/site-packages/autosklearn/metalearning/files/mean_squared_error_regression_dense\n"
     ]
    },
    {
     "name": "stderr",
     "output_type": "stream",
     "text": [
      "/home/bmmalone/.virtualenvs/algorithm-selection/lib/python3.6/site-packages/autosklearn/smbo.py:737: RuntimeWarning: divide by zero encountered in true_divide\n",
      "  (1. - dataset_minimum))\n",
      "/home/bmmalone/.virtualenvs/algorithm-selection/lib/python3.6/site-packages/autosklearn/smbo.py:737: RuntimeWarning: invalid value encountered in true_divide\n",
      "  (1. - dataset_minimum))\n",
      "/home/bmmalone/.virtualenvs/algorithm-selection/lib/python3.6/site-packages/autosklearn/smbo.py:738: RuntimeWarning: invalid value encountered in greater\n",
      "  Y_cfg[:, 0][Y_cfg[:, 0] > 2] = 2\n",
      "/home/bmmalone/.virtualenvs/algorithm-selection/lib/python3.6/site-packages/scipy/stats/_distn_infrastructure.py:879: RuntimeWarning: invalid value encountered in greater\n",
      "  return (self.a < x) & (x < self.b)\n",
      "/home/bmmalone/.virtualenvs/algorithm-selection/lib/python3.6/site-packages/scipy/stats/_distn_infrastructure.py:879: RuntimeWarning: invalid value encountered in less\n",
      "  return (self.a < x) & (x < self.b)\n",
      "/home/bmmalone/.virtualenvs/algorithm-selection/lib/python3.6/site-packages/scipy/stats/_distn_infrastructure.py:1735: RuntimeWarning: invalid value encountered in greater_equal\n",
      "  cond2 = (x >= self.b) & cond0\n",
      "/home/bmmalone/.virtualenvs/algorithm-selection/lib/python3.6/site-packages/scipy/stats/_distn_infrastructure.py:876: RuntimeWarning: invalid value encountered in greater_equal\n",
      "  return (self.a <= x) & (x <= self.b)\n",
      "/home/bmmalone/.virtualenvs/algorithm-selection/lib/python3.6/site-packages/scipy/stats/_distn_infrastructure.py:876: RuntimeWarning: invalid value encountered in less_equal\n",
      "  return (self.a <= x) & (x <= self.b)\n",
      "/home/bmmalone/.virtualenvs/algorithm-selection/lib/python3.6/site-packages/smac/optimizer/acquisition.py:164: RuntimeWarning: invalid value encountered in less\n",
      "  if (f < 0).any():\n"
     ]
    },
    {
     "name": "stdout",
     "output_type": "stream",
     "text": [
      "Time limit for a single run is higher than total time limit. Capping the limit for a single run to the total time given to SMAC (19.568056)\n",
      "[WARNING] [2017-08-29 01:56:58,771:AutoMLSMBO(8675309)::f2fc0a385aa724a06ceb0c2ce10015ad] Could not find meta-data directory /home/bmmalone/.virtualenvs/algorithm-selection/lib/python3.6/site-packages/autosklearn/metalearning/files/mean_squared_error_regression_dense\n"
     ]
    },
    {
     "name": "stderr",
     "output_type": "stream",
     "text": [
      "/home/bmmalone/.virtualenvs/algorithm-selection/lib/python3.6/site-packages/autosklearn/smbo.py:737: RuntimeWarning: divide by zero encountered in true_divide\n",
      "  (1. - dataset_minimum))\n",
      "/home/bmmalone/.virtualenvs/algorithm-selection/lib/python3.6/site-packages/autosklearn/smbo.py:737: RuntimeWarning: invalid value encountered in true_divide\n",
      "  (1. - dataset_minimum))\n",
      "/home/bmmalone/.virtualenvs/algorithm-selection/lib/python3.6/site-packages/autosklearn/smbo.py:738: RuntimeWarning: invalid value encountered in greater\n",
      "  Y_cfg[:, 0][Y_cfg[:, 0] > 2] = 2\n",
      "/home/bmmalone/.virtualenvs/algorithm-selection/lib/python3.6/site-packages/scipy/stats/_distn_infrastructure.py:879: RuntimeWarning: invalid value encountered in greater\n",
      "  return (self.a < x) & (x < self.b)\n",
      "/home/bmmalone/.virtualenvs/algorithm-selection/lib/python3.6/site-packages/scipy/stats/_distn_infrastructure.py:879: RuntimeWarning: invalid value encountered in less\n",
      "  return (self.a < x) & (x < self.b)\n",
      "/home/bmmalone/.virtualenvs/algorithm-selection/lib/python3.6/site-packages/scipy/stats/_distn_infrastructure.py:1735: RuntimeWarning: invalid value encountered in greater_equal\n",
      "  cond2 = (x >= self.b) & cond0\n",
      "/home/bmmalone/.virtualenvs/algorithm-selection/lib/python3.6/site-packages/scipy/stats/_distn_infrastructure.py:876: RuntimeWarning: invalid value encountered in greater_equal\n",
      "  return (self.a <= x) & (x <= self.b)\n",
      "/home/bmmalone/.virtualenvs/algorithm-selection/lib/python3.6/site-packages/scipy/stats/_distn_infrastructure.py:876: RuntimeWarning: invalid value encountered in less_equal\n",
      "  return (self.a <= x) & (x <= self.b)\n",
      "/home/bmmalone/.virtualenvs/algorithm-selection/lib/python3.6/site-packages/smac/optimizer/acquisition.py:164: RuntimeWarning: invalid value encountered in less\n",
      "  if (f < 0).any():\n"
     ]
    },
    {
     "name": "stdout",
     "output_type": "stream",
     "text": [
      "Time limit for a single run is higher than total time limit. Capping the limit for a single run to the total time given to SMAC (19.559927)\n",
      "[WARNING] [2017-08-29 01:57:14,139:AutoMLSMBO(8675309)::f2fc0a385aa724a06ceb0c2ce10015ad] Could not find meta-data directory /home/bmmalone/.virtualenvs/algorithm-selection/lib/python3.6/site-packages/autosklearn/metalearning/files/mean_squared_error_regression_dense\n"
     ]
    },
    {
     "name": "stderr",
     "output_type": "stream",
     "text": [
      "You are already timing task: index_run2\n",
      "You are already timing task: index_run2\n"
     ]
    },
    {
     "name": "stdout",
     "output_type": "stream",
     "text": [
      "Time limit for a single run is higher than total time limit. Capping the limit for a single run to the total time given to SMAC (19.562574)\n",
      "[WARNING] [2017-08-29 01:57:30,117:AutoMLSMBO(8675309)::f2fc0a385aa724a06ceb0c2ce10015ad] Could not find meta-data directory /home/bmmalone/.virtualenvs/algorithm-selection/lib/python3.6/site-packages/autosklearn/metalearning/files/mean_squared_error_regression_dense\n"
     ]
    },
    {
     "name": "stderr",
     "output_type": "stream",
     "text": [
      "/home/bmmalone/.virtualenvs/algorithm-selection/lib/python3.6/site-packages/autosklearn/smbo.py:737: RuntimeWarning: divide by zero encountered in true_divide\n",
      "  (1. - dataset_minimum))\n",
      "/home/bmmalone/.virtualenvs/algorithm-selection/lib/python3.6/site-packages/autosklearn/smbo.py:737: RuntimeWarning: invalid value encountered in true_divide\n",
      "  (1. - dataset_minimum))\n",
      "/home/bmmalone/.virtualenvs/algorithm-selection/lib/python3.6/site-packages/autosklearn/smbo.py:738: RuntimeWarning: invalid value encountered in greater\n",
      "  Y_cfg[:, 0][Y_cfg[:, 0] > 2] = 2\n",
      "/home/bmmalone/.virtualenvs/algorithm-selection/lib/python3.6/site-packages/scipy/stats/_distn_infrastructure.py:879: RuntimeWarning: invalid value encountered in greater\n",
      "  return (self.a < x) & (x < self.b)\n",
      "/home/bmmalone/.virtualenvs/algorithm-selection/lib/python3.6/site-packages/scipy/stats/_distn_infrastructure.py:879: RuntimeWarning: invalid value encountered in less\n",
      "  return (self.a < x) & (x < self.b)\n",
      "/home/bmmalone/.virtualenvs/algorithm-selection/lib/python3.6/site-packages/scipy/stats/_distn_infrastructure.py:1735: RuntimeWarning: invalid value encountered in greater_equal\n",
      "  cond2 = (x >= self.b) & cond0\n",
      "/home/bmmalone/.virtualenvs/algorithm-selection/lib/python3.6/site-packages/scipy/stats/_distn_infrastructure.py:876: RuntimeWarning: invalid value encountered in greater_equal\n",
      "  return (self.a <= x) & (x <= self.b)\n",
      "/home/bmmalone/.virtualenvs/algorithm-selection/lib/python3.6/site-packages/scipy/stats/_distn_infrastructure.py:876: RuntimeWarning: invalid value encountered in less_equal\n",
      "  return (self.a <= x) & (x <= self.b)\n",
      "/home/bmmalone/.virtualenvs/algorithm-selection/lib/python3.6/site-packages/smac/optimizer/acquisition.py:164: RuntimeWarning: invalid value encountered in less\n",
      "  if (f < 0).any():\n"
     ]
    },
    {
     "name": "stdout",
     "output_type": "stream",
     "text": [
      "Time limit for a single run is higher than total time limit. Capping the limit for a single run to the total time given to SMAC (19.557183)\n",
      "[WARNING] [2017-08-29 01:57:45,368:AutoMLSMBO(8675309)::f2fc0a385aa724a06ceb0c2ce10015ad] Could not find meta-data directory /home/bmmalone/.virtualenvs/algorithm-selection/lib/python3.6/site-packages/autosklearn/metalearning/files/mean_squared_error_regression_dense\n"
     ]
    },
    {
     "name": "stderr",
     "output_type": "stream",
     "text": [
      "/home/bmmalone/.virtualenvs/algorithm-selection/lib/python3.6/site-packages/autosklearn/smbo.py:737: RuntimeWarning: divide by zero encountered in true_divide\n",
      "  (1. - dataset_minimum))\n",
      "/home/bmmalone/.virtualenvs/algorithm-selection/lib/python3.6/site-packages/autosklearn/smbo.py:737: RuntimeWarning: invalid value encountered in true_divide\n",
      "  (1. - dataset_minimum))\n",
      "/home/bmmalone/.virtualenvs/algorithm-selection/lib/python3.6/site-packages/autosklearn/smbo.py:738: RuntimeWarning: invalid value encountered in greater\n",
      "  Y_cfg[:, 0][Y_cfg[:, 0] > 2] = 2\n",
      "/home/bmmalone/.virtualenvs/algorithm-selection/lib/python3.6/site-packages/scipy/stats/_distn_infrastructure.py:879: RuntimeWarning: invalid value encountered in greater\n",
      "  return (self.a < x) & (x < self.b)\n",
      "/home/bmmalone/.virtualenvs/algorithm-selection/lib/python3.6/site-packages/scipy/stats/_distn_infrastructure.py:879: RuntimeWarning: invalid value encountered in less\n",
      "  return (self.a < x) & (x < self.b)\n",
      "/home/bmmalone/.virtualenvs/algorithm-selection/lib/python3.6/site-packages/scipy/stats/_distn_infrastructure.py:1735: RuntimeWarning: invalid value encountered in greater_equal\n",
      "  cond2 = (x >= self.b) & cond0\n",
      "/home/bmmalone/.virtualenvs/algorithm-selection/lib/python3.6/site-packages/scipy/stats/_distn_infrastructure.py:876: RuntimeWarning: invalid value encountered in greater_equal\n",
      "  return (self.a <= x) & (x <= self.b)\n",
      "/home/bmmalone/.virtualenvs/algorithm-selection/lib/python3.6/site-packages/scipy/stats/_distn_infrastructure.py:876: RuntimeWarning: invalid value encountered in less_equal\n",
      "  return (self.a <= x) & (x <= self.b)\n",
      "/home/bmmalone/.virtualenvs/algorithm-selection/lib/python3.6/site-packages/smac/optimizer/acquisition.py:164: RuntimeWarning: invalid value encountered in less\n",
      "  if (f < 0).any():\n"
     ]
    },
    {
     "name": "stdout",
     "output_type": "stream",
     "text": [
      "Time limit for a single run is higher than total time limit. Capping the limit for a single run to the total time given to SMAC (19.535457)\n",
      "[WARNING] [2017-08-29 01:58:01,875:AutoMLSMBO(8675309)::f2fc0a385aa724a06ceb0c2ce10015ad] Could not find meta-data directory /home/bmmalone/.virtualenvs/algorithm-selection/lib/python3.6/site-packages/autosklearn/metalearning/files/mean_squared_error_regression_dense\n"
     ]
    }
   ],
   "source": [
    "scenario = training_scenarios['Bado']\n",
    "sfss = SequentialFeatureStepSelector(args, max_feature_steps=3)\n",
    "sfss_fit = sfss.fit(scenario)\n",
    "sfss.cur_feature_steps_, sfss.cur_par10_"
   ]
  },
  {
   "cell_type": "code",
   "execution_count": 56,
   "metadata": {},
   "outputs": [
    {
     "data": {
      "text/plain": [
       "'Svea'"
      ]
     },
     "execution_count": 56,
     "metadata": {},
     "output_type": "execute_result"
    }
   ],
   "source": [
    "args.presolver_budget = 0.001\n",
    "args.presolver_min_fast_solutions = 0.5"
   ]
  },
  {
   "cell_type": "code",
   "execution_count": 41,
   "metadata": {},
   "outputs": [
    {
     "name": "stdout",
     "output_type": "stream",
     "text": [
      "0.7910845324107637 ['step_2']\n",
      "-1.690581483032544 ['step_2', 'step_10']\n"
     ]
    }
   ],
   "source": [
    "cur_feature_steps = []\n",
    "cur_par10 = np.inf\n",
    "\n",
    "# make sure to use a copy\n",
    "remaining_feature_steps = list(scenario.feature_steps)\n",
    "\n",
    "while True:\n",
    "    (best_feature_step, best_par10) = _find_best_feature_step(scenario, cur_feature_steps, remaining_feature_steps)\n",
    "    \n",
    "    if best_par10 > cur_par10:\n",
    "        break\n",
    "        \n",
    "    cur_feature_steps.append(best_feature_step)\n",
    "    remaining_feature_steps.remove(best_feature_step)\n",
    "    \n",
    "    cur_par10 = best_par10\n",
    "    print(cur_par10, cur_feature_steps)"
   ]
  },
  {
   "cell_type": "code",
   "execution_count": 34,
   "metadata": {
    "collapsed": true
   },
   "outputs": [],
   "source": [
    "remaining_feature_steps = list(scenario.feature_steps)\n",
    "remaining_feature_steps.remove('step_9')"
   ]
  },
  {
   "cell_type": "code",
   "execution_count": 33,
   "metadata": {},
   "outputs": [
    {
     "ename": "ValueError",
     "evalue": "list.remove(x): x not in list",
     "output_type": "error",
     "traceback": [
      "\u001b[0;31m---------------------------------------------------------------------------\u001b[0m",
      "\u001b[0;31mValueError\u001b[0m                                Traceback (most recent call last)",
      "\u001b[0;32m<ipython-input-33-e7c73dd1ebeb>\u001b[0m in \u001b[0;36m<module>\u001b[0;34m()\u001b[0m\n\u001b[0;32m----> 1\u001b[0;31m \u001b[0mremaining_feature_steps\u001b[0m\u001b[0;34m.\u001b[0m\u001b[0mremove\u001b[0m\u001b[0;34m(\u001b[0m\u001b[0;34m'step_9'\u001b[0m\u001b[0;34m)\u001b[0m\u001b[0;34m\u001b[0m\u001b[0m\n\u001b[0m",
      "\u001b[0;31mValueError\u001b[0m: list.remove(x): x not in list"
     ]
    }
   ],
   "source": [
    "remaining_feature_steps.remove('step_9')"
   ]
  },
  {
   "cell_type": "code",
   "execution_count": null,
   "metadata": {
    "collapsed": true
   },
   "outputs": [],
   "source": []
  },
  {
   "cell_type": "code",
   "execution_count": 24,
   "metadata": {},
   "outputs": [
    {
     "data": {
      "text/plain": [
       "True"
      ]
     },
     "execution_count": 24,
     "metadata": {},
     "output_type": "execute_result"
    }
   ],
   "source": [
    "feature_sets = ['step_10', 'step_2']\n",
    "check_all_dependencies(scenario, feature_sets)"
   ]
  },
  {
   "cell_type": "code",
   "execution_count": 18,
   "metadata": {},
   "outputs": [
    {
     "data": {
      "text/plain": [
       "[]"
      ]
     },
     "execution_count": 18,
     "metadata": {},
     "output_type": "execute_result"
    }
   ],
   "source": [
    "scenario.feature_group_dict['step_2'].get('requires', [])"
   ]
  },
  {
   "cell_type": "code",
   "execution_count": 13,
   "metadata": {},
   "outputs": [
    {
     "data": {
      "text/plain": [
       "[('step_2', 'step_1'),\n",
       " ('step_2', 'step_10'),\n",
       " ('step_2', 'step_3'),\n",
       " ('step_2', 'step_4'),\n",
       " ('step_2', 'step_5'),\n",
       " ('step_2', 'step_6'),\n",
       " ('step_2', 'step_7'),\n",
       " ('step_2', 'step_8'),\n",
       " ('step_2', 'step_9')]"
      ]
     },
     "execution_count": 13,
     "metadata": {},
     "output_type": "execute_result"
    }
   ],
   "source": [
    "feature_dependency_graph.edges()"
   ]
  },
  {
   "cell_type": "code",
   "execution_count": 12,
   "metadata": {},
   "outputs": [
    {
     "name": "stderr",
     "output_type": "stream",
     "text": [
      "/home/bmmalone/.virtualenvs/algorithm-selection/lib/python3.6/site-packages/networkx/drawing/nx_pylab.py:126: MatplotlibDeprecationWarning: pyplot.hold is deprecated.\n",
      "    Future behavior will be consistent with the long-time default:\n",
      "    plot commands add elements without first clearing the\n",
      "    Axes and/or Figure.\n",
      "  b = plt.ishold()\n",
      "/home/bmmalone/.virtualenvs/algorithm-selection/lib/python3.6/site-packages/networkx/drawing/nx_pylab.py:138: MatplotlibDeprecationWarning: pyplot.hold is deprecated.\n",
      "    Future behavior will be consistent with the long-time default:\n",
      "    plot commands add elements without first clearing the\n",
      "    Axes and/or Figure.\n",
      "  plt.hold(b)\n",
      "/home/bmmalone/.virtualenvs/algorithm-selection/lib/python3.6/site-packages/matplotlib/__init__.py:917: UserWarning: axes.hold is deprecated. Please remove it from your matplotlibrc and/or style files.\n",
      "  warnings.warn(self.msg_depr_set % key)\n",
      "/home/bmmalone/.virtualenvs/algorithm-selection/lib/python3.6/site-packages/matplotlib/rcsetup.py:152: UserWarning: axes.hold is deprecated, will be removed in 3.0\n",
      "  warnings.warn(\"axes.hold is deprecated, will be removed in 3.0\")\n"
     ]
    },
    {
     "data": {
      "image/png": "[encoded data removed]",
      "text/plain": [
       "<matplotlib.figure.Figure at 0x7f1321998f98>"
      ]
     },
     "metadata": {},
     "output_type": "display_data"
    }
   ],
   "source": [
    "nx.draw(feature_dependency_graph)"
   ]
  },
  {
   "cell_type": "code",
   "execution_count": null,
   "metadata": {
    "collapsed": true
   },
   "outputs": [],
   "source": []
  }
 ],
 "metadata": {
  "kernelspec": {
   "display_name": "algorithm-selection",
   "language": "python",
   "name": "algorithm-selection"
  },
  "language_info": {
   "codemirror_mode": {
    "name": "ipython",
    "version": 3
   },
   "file_extension": ".py",
   "mimetype": "text/x-python",
   "name": "python",
   "nbconvert_exporter": "python",
   "pygments_lexer": "ipython3",
   "version": "3.6.1"
  }
 },
 "nbformat": 4,
 "nbformat_minor": 2
}
