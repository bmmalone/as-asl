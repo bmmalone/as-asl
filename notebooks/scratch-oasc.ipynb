{
 "cells": [
  {
   "cell_type": "code",
   "execution_count": 1,
   "metadata": {
    "collapsed": true
   },
   "outputs": [],
   "source": [
    "%load_ext autoreload\n",
    "%autoreload 2\n",
    "%matplotlib inline\n",
    "\n",
    "from argparse import Namespace\n",
    "import misc.logging_utils as logging_utils\n",
    "\n",
    "args = Namespace()\n",
    "logger = logging_utils.get_ipython_logger()"
   ]
  },
  {
   "cell_type": "code",
   "execution_count": 2,
   "metadata": {},
   "outputs": [
    {
     "name": "stderr",
     "output_type": "stream",
     "text": [
      "/home/bmmalone/.virtualenvs/algorithm-selection/lib/python3.6/site-packages/sklearn/cross_validation.py:44: DeprecationWarning: This module was deprecated in version 0.18 in favor of the model_selection module into which all the refactored classes and functions are moved. Also note that the interface of the new CV iterators are different from that of this module. This module will be removed in 0.20.\n",
      "  \"This module will be removed in 0.20.\", DeprecationWarning)\n"
     ]
    }
   ],
   "source": [
    "import matplotlib.pyplot as plt\n",
    "import numpy as np\n",
    "import pandas as pd\n",
    "import seaborn as sns; sns.set(style='white', color_codes=True)\n",
    "\n",
    "import autosklearn\n",
    "import misc.automl_utils as automl_utils\n",
    "import misc.parallel as parallel\n",
    "import misc.utils as utils\n",
    "\n",
    "import os\n",
    "\n",
    "from as_auto_sklearn.oasc_test_set import OascTestSet\n",
    "from as_auto_sklearn.as_asl_ensemble import ASaslEnsemble\n",
    "\n",
    "from aslib_scenario.aslib_scenario import ASlibScenario"
   ]
  },
  {
   "cell_type": "code",
   "execution_count": 3,
   "metadata": {
    "collapsed": true
   },
   "outputs": [],
   "source": [
    "import sklearn.model_selection\n",
    "import sklearn.datasets\n",
    "import sklearn.metrics"
   ]
  },
  {
   "cell_type": "code",
   "execution_count": 4,
   "metadata": {
    "collapsed": true
   },
   "outputs": [],
   "source": [
    "automl_utils.add_automl_values_to_args(args, total_training_time=120)"
   ]
  },
  {
   "cell_type": "code",
   "execution_count": 5,
   "metadata": {},
   "outputs": [
    {
     "name": "stderr",
     "output_type": "stream",
     "text": [
      "INFO     : Read ASlib scenario: /mldb/oasc_scenarios/train/Bado\n",
      "WARNING  : Optional file not found: /mldb/oasc_scenarios/train/Bado/ground_truth.arff\n",
      "WARNING  : Optional file not found: /mldb/oasc_scenarios/train/Bado/cv.arff\n",
      "INFO     : Read /mldb/oasc_scenarios/train/Bado/description.txt\n",
      "WARNING  : Have not found algorithm_cutoff_memory\n",
      "WARNING  : Have not found features_cutoff_memory\n",
      "WARNING  : Have not found features_stochastic\n",
      "INFO     : Read /mldb/oasc_scenarios/train/Bado/algorithm_runs.arff\n",
      "INFO     : Read /mldb/oasc_scenarios/train/Bado/feature_values.arff\n",
      "INFO     : Read /mldb/oasc_scenarios/train/Bado/feature_runstatus.arff\n",
      "INFO     : Read /mldb/oasc_scenarios/train/Bado/feature_costs.arff\n",
      "DEBUG    : Replace all runtime data with PAR10 values for non-OK runs\n",
      "INFO     : Read ASlib scenario: /mldb/oasc_scenarios/train/Camilla\n",
      "WARNING  : Optional file not found: /mldb/oasc_scenarios/train/Camilla/ground_truth.arff\n",
      "WARNING  : Optional file not found: /mldb/oasc_scenarios/train/Camilla/feature_costs.arff\n",
      "WARNING  : Optional file not found: /mldb/oasc_scenarios/train/Camilla/cv.arff\n",
      "INFO     : Read /mldb/oasc_scenarios/train/Camilla/description.txt\n",
      "WARNING  : Have not found algorithm_cutoff_memory\n",
      "WARNING  : Have not found features_cutoff_memory\n",
      "WARNING  : Have not found features_stochastic\n",
      "DEBUG    : Since we optimize quality, we use runtime cutoff of 1.\n",
      "INFO     : Read /mldb/oasc_scenarios/train/Camilla/algorithm_runs.arff\n",
      "INFO     : Read /mldb/oasc_scenarios/train/Camilla/feature_values.arff\n",
      "WARNING  : Found 3 duplicated feature vectors\n",
      "WARNING  : Index(['instance_12', 'instance_15', 'instance_82', 'instance_83',\n",
      "       'instance_85'],\n",
      "      dtype='object', name='instance_id')\n",
      "INFO     : Read /mldb/oasc_scenarios/train/Camilla/feature_runstatus.arff\n",
      "INFO     : Read ASlib scenario: /mldb/oasc_scenarios/train/Caren\n",
      "WARNING  : Optional file not found: /mldb/oasc_scenarios/train/Caren/ground_truth.arff\n",
      "WARNING  : Optional file not found: /mldb/oasc_scenarios/train/Caren/cv.arff\n",
      "INFO     : Read /mldb/oasc_scenarios/train/Caren/description.txt\n",
      "WARNING  : Have not found algorithm_cutoff_memory\n",
      "WARNING  : Have not found features_cutoff_memory\n",
      "WARNING  : Have not found features_stochastic\n",
      "INFO     : Read /mldb/oasc_scenarios/train/Caren/algorithm_runs.arff\n",
      "INFO     : Read /mldb/oasc_scenarios/train/Caren/feature_values.arff\n",
      "WARNING  : Found 3 duplicated feature vectors\n",
      "WARNING  : Index(['instance_12', 'instance_15', 'instance_82', 'instance_83',\n",
      "       'instance_85'],\n",
      "      dtype='object', name='instance_id')\n",
      "INFO     : Read /mldb/oasc_scenarios/train/Caren/feature_runstatus.arff\n",
      "INFO     : Read /mldb/oasc_scenarios/train/Caren/feature_costs.arff\n",
      "DEBUG    : Replace all runtime data with PAR10 values for non-OK runs\n",
      "INFO     : Read ASlib scenario: /mldb/oasc_scenarios/train/Magnus\n",
      "WARNING  : Optional file not found: /mldb/oasc_scenarios/train/Magnus/ground_truth.arff\n",
      "WARNING  : Optional file not found: /mldb/oasc_scenarios/train/Magnus/cv.arff\n",
      "INFO     : Read /mldb/oasc_scenarios/train/Magnus/description.txt\n",
      "WARNING  : Have not found algorithm_cutoff_memory\n",
      "WARNING  : Have not found features_cutoff_memory\n",
      "WARNING  : Have not found features_stochastic\n",
      "INFO     : Read /mldb/oasc_scenarios/train/Magnus/algorithm_runs.arff\n",
      "INFO     : Read /mldb/oasc_scenarios/train/Magnus/feature_values.arff\n",
      "WARNING  : Found 20 duplicated feature vectors\n",
      "WARNING  : Index(['instance_11', 'instance_18', 'instance_498', 'instance_500',\n",
      "       'instance_501', 'instance_502', 'instance_504', 'instance_51',\n",
      "       'instance_513', 'instance_514', 'instance_517', 'instance_518',\n",
      "       'instance_53', 'instance_54', 'instance_55', 'instance_559',\n",
      "       'instance_56', 'instance_568', 'instance_57', 'instance_571',\n",
      "       'instance_579', 'instance_58', 'instance_59', 'instance_590',\n",
      "       'instance_592', 'instance_598', 'instance_600', 'instance_63',\n",
      "       'instance_66', 'instance_70', 'instance_71', 'instance_72',\n",
      "       'instance_73', 'instance_74'],\n",
      "      dtype='object', name='instance_id')\n",
      "INFO     : Read /mldb/oasc_scenarios/train/Magnus/feature_runstatus.arff\n",
      "INFO     : Read /mldb/oasc_scenarios/train/Magnus/feature_costs.arff\n",
      "DEBUG    : Replace all runtime data with PAR10 values for non-OK runs\n",
      "INFO     : Read ASlib scenario: /mldb/oasc_scenarios/train/Mira\n",
      "WARNING  : Optional file not found: /mldb/oasc_scenarios/train/Mira/ground_truth.arff\n",
      "WARNING  : Optional file not found: /mldb/oasc_scenarios/train/Mira/cv.arff\n",
      "INFO     : Read /mldb/oasc_scenarios/train/Mira/description.txt\n",
      "WARNING  : Have not found algorithm_cutoff_memory\n",
      "WARNING  : Have not found features_cutoff_memory\n",
      "WARNING  : Have not found features_stochastic\n",
      "INFO     : Read /mldb/oasc_scenarios/train/Mira/algorithm_runs.arff\n",
      "INFO     : Read /mldb/oasc_scenarios/train/Mira/feature_values.arff\n",
      "INFO     : Read /mldb/oasc_scenarios/train/Mira/feature_runstatus.arff\n",
      "INFO     : Read /mldb/oasc_scenarios/train/Mira/feature_costs.arff\n",
      "DEBUG    : Replace all runtime data with PAR10 values for non-OK runs\n",
      "INFO     : Read ASlib scenario: /mldb/oasc_scenarios/train/Monty\n",
      "WARNING  : Optional file not found: /mldb/oasc_scenarios/train/Monty/ground_truth.arff\n",
      "WARNING  : Optional file not found: /mldb/oasc_scenarios/train/Monty/cv.arff\n",
      "INFO     : Read /mldb/oasc_scenarios/train/Monty/description.txt\n",
      "WARNING  : Have not found algorithm_cutoff_memory\n",
      "WARNING  : Have not found features_cutoff_memory\n",
      "WARNING  : Have not found features_stochastic\n",
      "INFO     : Read /mldb/oasc_scenarios/train/Monty/algorithm_runs.arff\n",
      "INFO     : Read /mldb/oasc_scenarios/train/Monty/feature_values.arff\n",
      "WARNING  : Found 14 duplicated feature vectors\n",
      "WARNING  : Index(['instance_311', 'instance_324', 'instance_47', 'instance_51',\n",
      "       'instance_532', 'instance_545', 'instance_548', 'instance_553',\n",
      "       'instance_561', 'instance_566', 'instance_582', 'instance_594',\n",
      "       'instance_598', 'instance_599', 'instance_601', 'instance_603',\n",
      "       'instance_613', 'instance_617', 'instance_618', 'instance_620',\n",
      "       'instance_621', 'instance_624', 'instance_627', 'instance_629',\n",
      "       'instance_630'],\n",
      "      dtype='object', name='instance_id')\n",
      "INFO     : Read /mldb/oasc_scenarios/train/Monty/feature_runstatus.arff\n",
      "INFO     : Read /mldb/oasc_scenarios/train/Monty/feature_costs.arff\n",
      "DEBUG    : Replace all runtime data with PAR10 values for non-OK runs\n",
      "INFO     : Read ASlib scenario: /mldb/oasc_scenarios/train/Oberon\n",
      "WARNING  : Optional file not found: /mldb/oasc_scenarios/train/Oberon/ground_truth.arff\n",
      "WARNING  : Optional file not found: /mldb/oasc_scenarios/train/Oberon/feature_costs.arff\n",
      "WARNING  : Optional file not found: /mldb/oasc_scenarios/train/Oberon/cv.arff\n",
      "INFO     : Read /mldb/oasc_scenarios/train/Oberon/description.txt\n",
      "WARNING  : Have not found algorithm_cutoff_memory\n",
      "WARNING  : Have not found features_cutoff_time\n",
      "DEBUG    : Assumption FEATURES_CUTOFF_TIME == ALGORITHM_CUTOFF_TIME \n",
      "WARNING  : Have not found features_cutoff_memory\n",
      "WARNING  : Have not found features_stochastic\n",
      "DEBUG    : Since we optimize quality, we use runtime cutoff of 1.\n",
      "INFO     : Read /mldb/oasc_scenarios/train/Oberon/algorithm_runs.arff\n",
      "INFO     : Read /mldb/oasc_scenarios/train/Oberon/feature_values.arff\n",
      "INFO     : Read /mldb/oasc_scenarios/train/Oberon/feature_runstatus.arff\n",
      "INFO     : Multiply all performance data by -1, since autofolio minimizes the scores but the objective is to maximize\n",
      "INFO     : Read ASlib scenario: /mldb/oasc_scenarios/train/Quill\n",
      "WARNING  : Optional file not found: /mldb/oasc_scenarios/train/Quill/ground_truth.arff\n",
      "WARNING  : Optional file not found: /mldb/oasc_scenarios/train/Quill/cv.arff\n",
      "INFO     : Read /mldb/oasc_scenarios/train/Quill/description.txt\n",
      "WARNING  : Have not found algorithm_cutoff_memory\n",
      "WARNING  : Have not found features_cutoff_memory\n",
      "WARNING  : Have not found features_stochastic\n",
      "INFO     : Read /mldb/oasc_scenarios/train/Quill/algorithm_runs.arff\n",
      "INFO     : Read /mldb/oasc_scenarios/train/Quill/feature_values.arff\n",
      "WARNING  : Found 11 duplicated feature vectors\n",
      "WARNING  : Index(['instance_135', 'instance_169', 'instance_196', 'instance_243',\n",
      "       'instance_255', 'instance_276', 'instance_368', 'instance_488',\n",
      "       'instance_620', 'instance_630', 'instance_666', 'instance_678',\n",
      "       'instance_696', 'instance_764'],\n",
      "      dtype='object', name='instance_id')\n"
     ]
    },
    {
     "name": "stderr",
     "output_type": "stream",
     "text": [
      "INFO     : Read /mldb/oasc_scenarios/train/Quill/feature_runstatus.arff\n",
      "INFO     : Read /mldb/oasc_scenarios/train/Quill/feature_costs.arff\n",
      "DEBUG    : Replace all runtime data with PAR10 values for non-OK runs\n",
      "INFO     : Read ASlib scenario: /mldb/oasc_scenarios/train/Sora\n",
      "WARNING  : Optional file not found: /mldb/oasc_scenarios/train/Sora/ground_truth.arff\n",
      "WARNING  : Optional file not found: /mldb/oasc_scenarios/train/Sora/cv.arff\n",
      "INFO     : Read /mldb/oasc_scenarios/train/Sora/description.txt\n",
      "WARNING  : Have not found algorithm_cutoff_memory\n",
      "WARNING  : Have not found features_cutoff_memory\n",
      "WARNING  : Have not found features_stochastic\n",
      "INFO     : Read /mldb/oasc_scenarios/train/Sora/algorithm_runs.arff\n",
      "INFO     : Read /mldb/oasc_scenarios/train/Sora/feature_values.arff\n",
      "INFO     : Read /mldb/oasc_scenarios/train/Sora/feature_runstatus.arff\n",
      "INFO     : Read /mldb/oasc_scenarios/train/Sora/feature_costs.arff\n",
      "DEBUG    : Replace all runtime data with PAR10 values for non-OK runs\n",
      "INFO     : Read ASlib scenario: /mldb/oasc_scenarios/train/Svea\n",
      "WARNING  : Optional file not found: /mldb/oasc_scenarios/train/Svea/ground_truth.arff\n",
      "WARNING  : Optional file not found: /mldb/oasc_scenarios/train/Svea/cv.arff\n",
      "INFO     : Read /mldb/oasc_scenarios/train/Svea/description.txt\n",
      "WARNING  : Have not found algorithm_cutoff_memory\n",
      "WARNING  : Have not found features_cutoff_memory\n",
      "WARNING  : Have not found features_stochastic\n",
      "INFO     : Read /mldb/oasc_scenarios/train/Svea/algorithm_runs.arff\n",
      "INFO     : Read /mldb/oasc_scenarios/train/Svea/feature_values.arff\n",
      "WARNING  : Found 12 duplicated feature vectors\n",
      "WARNING  : Index(['instance_1023', 'instance_1205', 'instance_1207', 'instance_1475',\n",
      "       'instance_1488', 'instance_170', 'instance_364', 'instance_412',\n",
      "       'instance_47', 'instance_613', 'instance_741', 'instance_849',\n",
      "       'instance_901', 'instance_914'],\n",
      "      dtype='object', name='instance_id')\n",
      "INFO     : Read /mldb/oasc_scenarios/train/Svea/feature_runstatus.arff\n",
      "INFO     : Read /mldb/oasc_scenarios/train/Svea/feature_costs.arff\n",
      "DEBUG    : Replace all runtime data with PAR10 values for non-OK runs\n",
      "INFO     : Read ASlib scenario: /mldb/oasc_scenarios/train/Titus\n",
      "WARNING  : Optional file not found: /mldb/oasc_scenarios/train/Titus/ground_truth.arff\n",
      "WARNING  : Optional file not found: /mldb/oasc_scenarios/train/Titus/feature_costs.arff\n",
      "WARNING  : Optional file not found: /mldb/oasc_scenarios/train/Titus/cv.arff\n",
      "INFO     : Read /mldb/oasc_scenarios/train/Titus/description.txt\n",
      "WARNING  : Have not found algorithm_cutoff_memory\n",
      "WARNING  : Have not found features_cutoff_memory\n",
      "WARNING  : Have not found features_stochastic\n",
      "DEBUG    : Since we optimize quality, we use runtime cutoff of 1.\n",
      "INFO     : Read /mldb/oasc_scenarios/train/Titus/algorithm_runs.arff\n",
      "INFO     : Read /mldb/oasc_scenarios/train/Titus/feature_values.arff\n",
      "INFO     : Read /mldb/oasc_scenarios/train/Titus/feature_runstatus.arff\n",
      "INFO     : Multiply all performance data by -1, since autofolio minimizes the scores but the objective is to maximize\n",
      "INFO     : Read /mldb/oasc_scenarios/test/Bado/description.txt\n",
      "WARNING  : Have not found algorithm_cutoff_memory\n",
      "WARNING  : Have not found features_cutoff_memory\n",
      "WARNING  : Have not found features_stochastic\n",
      "INFO     : Read /mldb/oasc_scenarios/test/Bado/feature_values.arff\n",
      "INFO     : Read /mldb/oasc_scenarios/test/Bado/feature_runstatus.arff\n",
      "INFO     : Read /mldb/oasc_scenarios/test/Camilla/description.txt\n",
      "WARNING  : Have not found algorithm_cutoff_memory\n",
      "WARNING  : Have not found features_cutoff_memory\n",
      "WARNING  : Have not found features_stochastic\n",
      "DEBUG    : Since we optimize quality, we use runtime cutoff of 1.\n",
      "INFO     : Read /mldb/oasc_scenarios/test/Camilla/feature_values.arff\n",
      "WARNING  : Found 3 duplicated feature vectors\n",
      "WARNING  : Index(['instance_46', 'instance_48', 'instance_49', 'instance_50'], dtype='object', name='instance_id')\n",
      "INFO     : Read /mldb/oasc_scenarios/test/Camilla/feature_runstatus.arff\n",
      "INFO     : Read /mldb/oasc_scenarios/test/Caren/description.txt\n",
      "WARNING  : Have not found algorithm_cutoff_memory\n",
      "WARNING  : Have not found features_cutoff_memory\n",
      "WARNING  : Have not found features_stochastic\n",
      "INFO     : Read /mldb/oasc_scenarios/test/Caren/feature_values.arff\n",
      "WARNING  : Found 3 duplicated feature vectors\n",
      "WARNING  : Index(['instance_46', 'instance_48', 'instance_49', 'instance_50'], dtype='object', name='instance_id')\n",
      "INFO     : Read /mldb/oasc_scenarios/test/Caren/feature_runstatus.arff\n",
      "INFO     : Read /mldb/oasc_scenarios/test/Magnus/description.txt\n",
      "WARNING  : Have not found algorithm_cutoff_memory\n",
      "WARNING  : Have not found features_cutoff_memory\n",
      "WARNING  : Have not found features_stochastic\n",
      "INFO     : Read /mldb/oasc_scenarios/test/Magnus/feature_values.arff\n",
      "WARNING  : Found 2 duplicated feature vectors\n",
      "WARNING  : Index(['instance_496', 'instance_503', 'instance_60', 'instance_61'], dtype='object', name='instance_id')\n",
      "INFO     : Read /mldb/oasc_scenarios/test/Magnus/feature_runstatus.arff\n",
      "INFO     : Read /mldb/oasc_scenarios/test/Mira/description.txt\n",
      "WARNING  : Have not found algorithm_cutoff_memory\n",
      "WARNING  : Have not found features_cutoff_memory\n",
      "WARNING  : Have not found features_stochastic\n",
      "INFO     : Read /mldb/oasc_scenarios/test/Mira/feature_values.arff\n",
      "INFO     : Read /mldb/oasc_scenarios/test/Mira/feature_runstatus.arff\n",
      "INFO     : Read /mldb/oasc_scenarios/test/Monty/description.txt\n",
      "WARNING  : Have not found algorithm_cutoff_memory\n",
      "WARNING  : Have not found features_cutoff_memory\n",
      "WARNING  : Have not found features_stochastic\n",
      "INFO     : Read /mldb/oasc_scenarios/test/Monty/feature_values.arff\n",
      "WARNING  : Found 2 duplicated feature vectors\n",
      "WARNING  : Index(['instance_536', 'instance_568', 'instance_616', 'instance_622'], dtype='object', name='instance_id')\n",
      "INFO     : Read /mldb/oasc_scenarios/test/Monty/feature_runstatus.arff\n",
      "INFO     : Read /mldb/oasc_scenarios/test/Oberon/description.txt\n",
      "WARNING  : Have not found algorithm_cutoff_memory\n",
      "WARNING  : Have not found features_cutoff_time\n",
      "DEBUG    : Assumption FEATURES_CUTOFF_TIME == ALGORITHM_CUTOFF_TIME \n",
      "WARNING  : Have not found features_cutoff_memory\n",
      "WARNING  : Have not found features_stochastic\n",
      "DEBUG    : Since we optimize quality, we use runtime cutoff of 1.\n",
      "INFO     : Read /mldb/oasc_scenarios/test/Oberon/feature_values.arff\n",
      "INFO     : Read /mldb/oasc_scenarios/test/Oberon/feature_runstatus.arff\n",
      "INFO     : Read /mldb/oasc_scenarios/test/Quill/description.txt\n",
      "WARNING  : Have not found algorithm_cutoff_memory\n",
      "WARNING  : Have not found features_cutoff_memory\n",
      "WARNING  : Have not found features_stochastic\n",
      "INFO     : Read /mldb/oasc_scenarios/test/Quill/feature_values.arff\n",
      "WARNING  : Found 3 duplicated feature vectors\n",
      "WARNING  : Index(['instance_111', 'instance_153', 'instance_40', 'instance_595',\n",
      "       'instance_652'],\n",
      "      dtype='object', name='instance_id')\n",
      "INFO     : Read /mldb/oasc_scenarios/test/Quill/feature_runstatus.arff\n",
      "INFO     : Read /mldb/oasc_scenarios/test/Sora/description.txt\n",
      "WARNING  : Have not found algorithm_cutoff_memory\n",
      "WARNING  : Have not found features_cutoff_memory\n",
      "WARNING  : Have not found features_stochastic\n",
      "INFO     : Read /mldb/oasc_scenarios/test/Sora/feature_values.arff\n",
      "INFO     : Read /mldb/oasc_scenarios/test/Sora/feature_runstatus.arff\n",
      "INFO     : Read /mldb/oasc_scenarios/test/Svea/description.txt\n",
      "WARNING  : Have not found algorithm_cutoff_memory\n",
      "WARNING  : Have not found features_cutoff_memory\n",
      "WARNING  : Have not found features_stochastic\n",
      "INFO     : Read /mldb/oasc_scenarios/test/Svea/feature_values.arff\n",
      "WARNING  : Found 4 duplicated feature vectors\n",
      "WARNING  : Index(['instance_1318', 'instance_1578', 'instance_423', 'instance_635',\n",
      "       'instance_904'],\n",
      "      dtype='object', name='instance_id')\n",
      "INFO     : Read /mldb/oasc_scenarios/test/Svea/feature_runstatus.arff\n",
      "INFO     : Read /mldb/oasc_scenarios/test/Titus/description.txt\n",
      "WARNING  : Have not found algorithm_cutoff_memory\n",
      "WARNING  : Have not found features_cutoff_memory\n",
      "WARNING  : Have not found features_stochastic\n",
      "DEBUG    : Since we optimize quality, we use runtime cutoff of 1.\n",
      "INFO     : Read /mldb/oasc_scenarios/test/Titus/feature_values.arff\n",
      "INFO     : Read /mldb/oasc_scenarios/test/Titus/feature_runstatus.arff\n"
     ]
    }
   ],
   "source": [
    "def get_scenario(scenario_path):\n",
    "    scenario = ASlibScenario()\n",
    "    scenario.read_scenario(scenario_path)\n",
    "    return scenario\n",
    "\n",
    "training_scenarios_dir = \"/mldb/oasc_scenarios/train/\"\n",
    "\n",
    "training_scenarios = [\n",
    "    os.path.join(training_scenarios_dir, o) for o in os.listdir(training_scenarios_dir)\n",
    "]\n",
    "\n",
    "training_scenarios = sorted([\n",
    "    t for t in training_scenarios if os.path.isdir(t)\n",
    "])\n",
    "\n",
    "training_scenarios = [\n",
    "    get_scenario(s) for s in training_scenarios\n",
    "]\n",
    "\n",
    "testing_scenarios_dir = \"/mldb/oasc_scenarios/test/\"\n",
    "\n",
    "testing_scenarios = [\n",
    "    os.path.join(testing_scenarios_dir, o) for o in os.listdir(testing_scenarios_dir)\n",
    "]\n",
    "\n",
    "testing_scenarios = sorted([\n",
    "    t for t in testing_scenarios if os.path.isdir(t)\n",
    "])\n",
    "\n",
    "testing_scenarios = [\n",
    "    OascTestSet(s) for s in testing_scenarios\n",
    "]"
   ]
  },
  {
   "cell_type": "code",
   "execution_count": 6,
   "metadata": {
    "collapsed": true
   },
   "outputs": [],
   "source": [
    "training_scenario = training_scenarios[0]\n",
    "testing_scenario = testing_scenarios[0]"
   ]
  },
  {
   "cell_type": "code",
   "execution_count": 7,
   "metadata": {},
   "outputs": [
    {
     "name": "stdout",
     "output_type": "stream",
     "text": [
      "['runtime'] Bado 0 [dtype('float64')] (786, 86)\n",
      "['solution_quality'] Camilla 117 [dtype('float64')] (66, 95)\n",
      "['runtime'] Caren 117 [dtype('float64')] (66, 95)\n",
      "['runtime'] Magnus 0 [dtype('float64')] (400, 37)\n",
      "['runtime'] Mira 0 [dtype('float64')] (145, 143)\n",
      "['runtime'] Monty 0 [dtype('float64')] (420, 37)\n",
      "['solution_quality'] Oberon 559 [dtype('float64')] (70, 103)\n",
      "['runtime'] Quill 414 [dtype('float64')] (550, 46)\n",
      "['runtime'] Sora 11793 [dtype('float64')] (1333, 483)\n",
      "['runtime'] Svea 6700 [dtype('float64')] (1076, 115)\n",
      "['solution_quality'] Titus 0 [dtype('float64')] (6480, 55)\n"
     ]
    }
   ],
   "source": [
    "for scenario in training_scenarios:\n",
    "    num_nans = scenario.feature_data.isnull().sum().sum()\n",
    "    dtypes = np.unique(scenario.feature_data.dtypes)\n",
    "    print(scenario.performance_type, scenario.scenario, num_nans, dtypes, scenario.feature_data.shape)"
   ]
  },
  {
   "cell_type": "code",
   "execution_count": 8,
   "metadata": {},
   "outputs": [
    {
     "name": "stdout",
     "output_type": "stream",
     "text": [
      "['runtime'] Bado None\n",
      "['solution_quality'] Camilla None\n",
      "['runtime'] Caren None\n",
      "['runtime'] Magnus None\n",
      "['runtime'] Mira None\n",
      "['runtime'] Monty None\n",
      "['solution_quality'] Oberon None\n",
      "['runtime'] Quill None\n",
      "['runtime'] Sora None\n",
      "['runtime'] Svea None\n",
      "['solution_quality'] Titus None\n"
     ]
    }
   ],
   "source": [
    "for scenario in testing_scenarios:\n",
    "    print(scenario.scenario.performance_type, scenario.scenario.scenario, scenario.scenario.feature_cost_data)"
   ]
  },
  {
   "cell_type": "code",
   "execution_count": 11,
   "metadata": {},
   "outputs": [
    {
     "name": "stderr",
     "output_type": "stream",
     "text": [
      "DEBUG    : [asl_wrapper]: initializing a wrapper. ensemble: None. autosklearn: None\n",
      "DEBUG    : [asl_wrapper]: initializing a wrapper. ensemble: None. autosklearn: None\n",
      "DEBUG    : [asl_wrapper]: initializing a wrapper. ensemble: None. autosklearn: None\n",
      "DEBUG    : [asl_wrapper]: initializing a wrapper. ensemble: None. autosklearn: None\n",
      "DEBUG    : [asl_wrapper]: initializing a wrapper. ensemble: None. autosklearn: None\n",
      "DEBUG    : [asl_wrapper]: initializing a wrapper. ensemble: None. autosklearn: None\n",
      "DEBUG    : [asl_wrapper]: initializing a wrapper. ensemble: None. autosklearn: None\n",
      "DEBUG    : [asl_wrapper]: initializing a wrapper. ensemble: None. autosklearn: None\n",
      "DEBUG    : [asl_wrapper]: calling __getstate__. caller: delayed\n",
      "DEBUG    : [asl_wrapper]: calling __getstate__. caller: delayed\n",
      "DEBUG    : [asl_wrapper]: calling __getstate__. caller: delayed\n",
      "DEBUG    : [asl_wrapper]: calling __getstate__. caller: delayed\n",
      "DEBUG    : [asl_wrapper]: calling __getstate__. caller: delayed\n",
      "DEBUG    : [asl_wrapper]: calling __getstate__. caller: delayed\n",
      "DEBUG    : [asl_wrapper]: calling __getstate__. caller: delayed\n",
      "DEBUG    : [asl_wrapper]: calling __getstate__. caller: delayed\n",
      "DEBUG    : [asl_wrapper]: creating an autosklearn regression optimizer\n",
      "DEBUG    : [asl_wrapper]: fitting a wrapper\n"
     ]
    },
    {
     "name": "stdout",
     "output_type": "stream",
     "text": [
      "Time limit for a single run is higher than total time limit. Capping the limit for a single run to the total time given to SMAC (119.559379)\n",
      "[WARNING] [2017-08-27 23:37:56,021:AutoMLSMBO(8675309)::a858e289a91c1e3c1e34cceb61e852c4] Could not find meta-data directory /home/bmmalone/.virtualenvs/algorithm-selection/lib/python3.6/site-packages/autosklearn/metalearning/files/mean_squared_error_regression_dense\n"
     ]
    },
    {
     "name": "stderr",
     "output_type": "stream",
     "text": [
      "You are already timing task: index_run2\n",
      "You are already timing task: index_run2\n",
      "You are already timing task: index_run2\n",
      "You are already timing task: index_run2\n",
      "You are already timing task: index_run2\n",
      "You are already timing task: index_run2\n",
      "You are already timing task: index_run2\n",
      "You are already timing task: index_run2\n",
      "/home/bmmalone/.virtualenvs/algorithm-selection/lib/python3.6/site-packages/autosklearn/smbo.py:737: RuntimeWarning: divide by zero encountered in true_divide\n",
      "  (1. - dataset_minimum))\n",
      "/home/bmmalone/.virtualenvs/algorithm-selection/lib/python3.6/site-packages/autosklearn/smbo.py:737: RuntimeWarning: invalid value encountered in true_divide\n",
      "  (1. - dataset_minimum))\n",
      "/home/bmmalone/.virtualenvs/algorithm-selection/lib/python3.6/site-packages/autosklearn/smbo.py:738: RuntimeWarning: invalid value encountered in greater\n",
      "  Y_cfg[:, 0][Y_cfg[:, 0] > 2] = 2\n",
      "/home/bmmalone/.virtualenvs/algorithm-selection/lib/python3.6/site-packages/scipy/stats/_distn_infrastructure.py:879: RuntimeWarning: invalid value encountered in greater\n",
      "  return (self.a < x) & (x < self.b)\n",
      "/home/bmmalone/.virtualenvs/algorithm-selection/lib/python3.6/site-packages/scipy/stats/_distn_infrastructure.py:879: RuntimeWarning: invalid value encountered in less\n",
      "  return (self.a < x) & (x < self.b)\n",
      "/home/bmmalone/.virtualenvs/algorithm-selection/lib/python3.6/site-packages/scipy/stats/_distn_infrastructure.py:1735: RuntimeWarning: invalid value encountered in greater_equal\n",
      "  cond2 = (x >= self.b) & cond0\n",
      "/home/bmmalone/.virtualenvs/algorithm-selection/lib/python3.6/site-packages/scipy/stats/_distn_infrastructure.py:876: RuntimeWarning: invalid value encountered in greater_equal\n",
      "  return (self.a <= x) & (x <= self.b)\n",
      "/home/bmmalone/.virtualenvs/algorithm-selection/lib/python3.6/site-packages/scipy/stats/_distn_infrastructure.py:876: RuntimeWarning: invalid value encountered in less_equal\n",
      "  return (self.a <= x) & (x <= self.b)\n",
      "/home/bmmalone/.virtualenvs/algorithm-selection/lib/python3.6/site-packages/smac/optimizer/acquisition.py:164: RuntimeWarning: invalid value encountered in less\n",
      "  if (f < 0).any():\n"
     ]
    },
    {
     "name": "stdout",
     "output_type": "stream",
     "text": [
      "Time limit for a single run is higher than total time limit. Capping the limit for a single run to the total time given to SMAC (119.580516)\n",
      "[WARNING] [2017-08-27 23:39:52,272:AutoMLSMBO(8675309)::a858e289a91c1e3c1e34cceb61e852c4] Could not find meta-data directory /home/bmmalone/.virtualenvs/algorithm-selection/lib/python3.6/site-packages/autosklearn/metalearning/files/mean_squared_error_regression_dense\n"
     ]
    },
    {
     "name": "stderr",
     "output_type": "stream",
     "text": [
      "You are already timing task: index_run2\n",
      "You are already timing task: index_run2\n",
      "You are already timing task: index_run3\n",
      "/home/bmmalone/.virtualenvs/algorithm-selection/lib/python3.6/site-packages/autosklearn/smbo.py:737: RuntimeWarning: divide by zero encountered in true_divide\n",
      "  (1. - dataset_minimum))\n",
      "/home/bmmalone/.virtualenvs/algorithm-selection/lib/python3.6/site-packages/autosklearn/smbo.py:737: RuntimeWarning: invalid value encountered in true_divide\n",
      "  (1. - dataset_minimum))\n",
      "/home/bmmalone/.virtualenvs/algorithm-selection/lib/python3.6/site-packages/autosklearn/smbo.py:738: RuntimeWarning: invalid value encountered in greater\n",
      "  Y_cfg[:, 0][Y_cfg[:, 0] > 2] = 2\n",
      "/home/bmmalone/.virtualenvs/algorithm-selection/lib/python3.6/site-packages/scipy/stats/_distn_infrastructure.py:879: RuntimeWarning: invalid value encountered in greater\n",
      "  return (self.a < x) & (x < self.b)\n",
      "/home/bmmalone/.virtualenvs/algorithm-selection/lib/python3.6/site-packages/scipy/stats/_distn_infrastructure.py:879: RuntimeWarning: invalid value encountered in less\n",
      "  return (self.a < x) & (x < self.b)\n",
      "/home/bmmalone/.virtualenvs/algorithm-selection/lib/python3.6/site-packages/scipy/stats/_distn_infrastructure.py:1735: RuntimeWarning: invalid value encountered in greater_equal\n",
      "  cond2 = (x >= self.b) & cond0\n",
      "/home/bmmalone/.virtualenvs/algorithm-selection/lib/python3.6/site-packages/scipy/stats/_distn_infrastructure.py:876: RuntimeWarning: invalid value encountered in greater_equal\n",
      "  return (self.a <= x) & (x <= self.b)\n",
      "/home/bmmalone/.virtualenvs/algorithm-selection/lib/python3.6/site-packages/scipy/stats/_distn_infrastructure.py:876: RuntimeWarning: invalid value encountered in less_equal\n",
      "  return (self.a <= x) & (x <= self.b)\n",
      "/home/bmmalone/.virtualenvs/algorithm-selection/lib/python3.6/site-packages/smac/optimizer/acquisition.py:164: RuntimeWarning: invalid value encountered in less\n",
      "  if (f < 0).any():\n",
      "You are already timing task: index_run4\n",
      "/home/bmmalone/.virtualenvs/algorithm-selection/lib/python3.6/site-packages/autosklearn/smbo.py:737: RuntimeWarning: divide by zero encountered in true_divide\n",
      "  (1. - dataset_minimum))\n",
      "/home/bmmalone/.virtualenvs/algorithm-selection/lib/python3.6/site-packages/autosklearn/smbo.py:737: RuntimeWarning: invalid value encountered in true_divide\n",
      "  (1. - dataset_minimum))\n",
      "/home/bmmalone/.virtualenvs/algorithm-selection/lib/python3.6/site-packages/autosklearn/smbo.py:738: RuntimeWarning: invalid value encountered in greater\n",
      "  Y_cfg[:, 0][Y_cfg[:, 0] > 2] = 2\n",
      "/home/bmmalone/.virtualenvs/algorithm-selection/lib/python3.6/site-packages/scipy/stats/_distn_infrastructure.py:879: RuntimeWarning: invalid value encountered in greater\n",
      "  return (self.a < x) & (x < self.b)\n",
      "/home/bmmalone/.virtualenvs/algorithm-selection/lib/python3.6/site-packages/scipy/stats/_distn_infrastructure.py:879: RuntimeWarning: invalid value encountered in less\n",
      "  return (self.a < x) & (x < self.b)\n",
      "/home/bmmalone/.virtualenvs/algorithm-selection/lib/python3.6/site-packages/scipy/stats/_distn_infrastructure.py:1735: RuntimeWarning: invalid value encountered in greater_equal\n",
      "  cond2 = (x >= self.b) & cond0\n",
      "/home/bmmalone/.virtualenvs/algorithm-selection/lib/python3.6/site-packages/scipy/stats/_distn_infrastructure.py:876: RuntimeWarning: invalid value encountered in greater_equal\n",
      "  return (self.a <= x) & (x <= self.b)\n",
      "/home/bmmalone/.virtualenvs/algorithm-selection/lib/python3.6/site-packages/scipy/stats/_distn_infrastructure.py:876: RuntimeWarning: invalid value encountered in less_equal\n",
      "  return (self.a <= x) & (x <= self.b)\n",
      "/home/bmmalone/.virtualenvs/algorithm-selection/lib/python3.6/site-packages/smac/optimizer/acquisition.py:164: RuntimeWarning: invalid value encountered in less\n",
      "  if (f < 0).any():\n"
     ]
    },
    {
     "name": "stdout",
     "output_type": "stream",
     "text": [
      "Time limit for a single run is higher than total time limit. Capping the limit for a single run to the total time given to SMAC (119.572158)\n",
      "[WARNING] [2017-08-27 23:41:50,098:AutoMLSMBO(8675309)::a858e289a91c1e3c1e34cceb61e852c4] Could not find meta-data directory /home/bmmalone/.virtualenvs/algorithm-selection/lib/python3.6/site-packages/autosklearn/metalearning/files/mean_squared_error_regression_dense\n"
     ]
    },
    {
     "name": "stderr",
     "output_type": "stream",
     "text": [
      "You are already timing task: index_run2\n",
      "You are already timing task: index_run2\n",
      "You are already timing task: index_run3\n",
      "You are already timing task: index_run3\n",
      "/home/bmmalone/.virtualenvs/algorithm-selection/lib/python3.6/site-packages/autosklearn/smbo.py:737: RuntimeWarning: divide by zero encountered in true_divide\n",
      "  (1. - dataset_minimum))\n",
      "/home/bmmalone/.virtualenvs/algorithm-selection/lib/python3.6/site-packages/autosklearn/smbo.py:737: RuntimeWarning: invalid value encountered in true_divide\n",
      "  (1. - dataset_minimum))\n",
      "/home/bmmalone/.virtualenvs/algorithm-selection/lib/python3.6/site-packages/autosklearn/smbo.py:738: RuntimeWarning: invalid value encountered in greater\n",
      "  Y_cfg[:, 0][Y_cfg[:, 0] > 2] = 2\n",
      "/home/bmmalone/.virtualenvs/algorithm-selection/lib/python3.6/site-packages/scipy/stats/_distn_infrastructure.py:879: RuntimeWarning: invalid value encountered in greater\n",
      "  return (self.a < x) & (x < self.b)\n",
      "/home/bmmalone/.virtualenvs/algorithm-selection/lib/python3.6/site-packages/scipy/stats/_distn_infrastructure.py:879: RuntimeWarning: invalid value encountered in less\n",
      "  return (self.a < x) & (x < self.b)\n",
      "/home/bmmalone/.virtualenvs/algorithm-selection/lib/python3.6/site-packages/scipy/stats/_distn_infrastructure.py:1735: RuntimeWarning: invalid value encountered in greater_equal\n",
      "  cond2 = (x >= self.b) & cond0\n",
      "/home/bmmalone/.virtualenvs/algorithm-selection/lib/python3.6/site-packages/scipy/stats/_distn_infrastructure.py:876: RuntimeWarning: invalid value encountered in greater_equal\n",
      "  return (self.a <= x) & (x <= self.b)\n",
      "/home/bmmalone/.virtualenvs/algorithm-selection/lib/python3.6/site-packages/scipy/stats/_distn_infrastructure.py:876: RuntimeWarning: invalid value encountered in less_equal\n",
      "  return (self.a <= x) & (x <= self.b)\n",
      "/home/bmmalone/.virtualenvs/algorithm-selection/lib/python3.6/site-packages/smac/optimizer/acquisition.py:164: RuntimeWarning: invalid value encountered in less\n",
      "  if (f < 0).any():\n"
     ]
    },
    {
     "name": "stdout",
     "output_type": "stream",
     "text": [
      "Time limit for a single run is higher than total time limit. Capping the limit for a single run to the total time given to SMAC (119.534977)\n",
      "[WARNING] [2017-08-27 23:43:44,866:AutoMLSMBO(8675309)::a858e289a91c1e3c1e34cceb61e852c4] Could not find meta-data directory /home/bmmalone/.virtualenvs/algorithm-selection/lib/python3.6/site-packages/autosklearn/metalearning/files/mean_squared_error_regression_dense\n"
     ]
    },
    {
     "name": "stderr",
     "output_type": "stream",
     "text": [
      "You are already timing task: index_run2\n",
      "You are already timing task: index_run2\n",
      "You are already timing task: index_run4\n",
      "You are already timing task: index_run4\n",
      "You are already timing task: index_run4\n",
      "You are already timing task: index_run4\n",
      "You are already timing task: index_run4\n",
      "You are already timing task: index_run4\n",
      "You are already timing task: index_run5\n",
      "/home/bmmalone/.virtualenvs/algorithm-selection/lib/python3.6/site-packages/autosklearn/smbo.py:737: RuntimeWarning: divide by zero encountered in true_divide\n",
      "  (1. - dataset_minimum))\n",
      "/home/bmmalone/.virtualenvs/algorithm-selection/lib/python3.6/site-packages/autosklearn/smbo.py:737: RuntimeWarning: invalid value encountered in true_divide\n",
      "  (1. - dataset_minimum))\n",
      "/home/bmmalone/.virtualenvs/algorithm-selection/lib/python3.6/site-packages/autosklearn/smbo.py:738: RuntimeWarning: invalid value encountered in greater\n",
      "  Y_cfg[:, 0][Y_cfg[:, 0] > 2] = 2\n",
      "/home/bmmalone/.virtualenvs/algorithm-selection/lib/python3.6/site-packages/scipy/stats/_distn_infrastructure.py:879: RuntimeWarning: invalid value encountered in greater\n",
      "  return (self.a < x) & (x < self.b)\n",
      "/home/bmmalone/.virtualenvs/algorithm-selection/lib/python3.6/site-packages/scipy/stats/_distn_infrastructure.py:879: RuntimeWarning: invalid value encountered in less\n",
      "  return (self.a < x) & (x < self.b)\n",
      "/home/bmmalone/.virtualenvs/algorithm-selection/lib/python3.6/site-packages/scipy/stats/_distn_infrastructure.py:1735: RuntimeWarning: invalid value encountered in greater_equal\n",
      "  cond2 = (x >= self.b) & cond0\n",
      "/home/bmmalone/.virtualenvs/algorithm-selection/lib/python3.6/site-packages/scipy/stats/_distn_infrastructure.py:876: RuntimeWarning: invalid value encountered in greater_equal\n",
      "  return (self.a <= x) & (x <= self.b)\n",
      "/home/bmmalone/.virtualenvs/algorithm-selection/lib/python3.6/site-packages/scipy/stats/_distn_infrastructure.py:876: RuntimeWarning: invalid value encountered in less_equal\n",
      "  return (self.a <= x) & (x <= self.b)\n",
      "/home/bmmalone/.virtualenvs/algorithm-selection/lib/python3.6/site-packages/smac/optimizer/acquisition.py:164: RuntimeWarning: invalid value encountered in less\n",
      "  if (f < 0).any():\n"
     ]
    },
    {
     "name": "stdout",
     "output_type": "stream",
     "text": [
      "Time limit for a single run is higher than total time limit. Capping the limit for a single run to the total time given to SMAC (119.579359)\n",
      "[WARNING] [2017-08-27 23:45:42,251:AutoMLSMBO(8675309)::a858e289a91c1e3c1e34cceb61e852c4] Could not find meta-data directory /home/bmmalone/.virtualenvs/algorithm-selection/lib/python3.6/site-packages/autosklearn/metalearning/files/mean_squared_error_regression_dense\n"
     ]
    },
    {
     "name": "stderr",
     "output_type": "stream",
     "text": [
      "You are already timing task: index_run2\n",
      "You are already timing task: index_run2\n",
      "You are already timing task: index_run3\n",
      "You are already timing task: index_run3\n",
      "You are already timing task: index_run3\n",
      "You are already timing task: index_run3\n",
      "/home/bmmalone/.virtualenvs/algorithm-selection/lib/python3.6/site-packages/autosklearn/smbo.py:737: RuntimeWarning: divide by zero encountered in true_divide\n",
      "  (1. - dataset_minimum))\n",
      "/home/bmmalone/.virtualenvs/algorithm-selection/lib/python3.6/site-packages/autosklearn/smbo.py:737: RuntimeWarning: invalid value encountered in true_divide\n",
      "  (1. - dataset_minimum))\n",
      "/home/bmmalone/.virtualenvs/algorithm-selection/lib/python3.6/site-packages/autosklearn/smbo.py:738: RuntimeWarning: invalid value encountered in greater\n",
      "  Y_cfg[:, 0][Y_cfg[:, 0] > 2] = 2\n",
      "/home/bmmalone/.virtualenvs/algorithm-selection/lib/python3.6/site-packages/scipy/stats/_distn_infrastructure.py:879: RuntimeWarning: invalid value encountered in greater\n",
      "  return (self.a < x) & (x < self.b)\n",
      "/home/bmmalone/.virtualenvs/algorithm-selection/lib/python3.6/site-packages/scipy/stats/_distn_infrastructure.py:879: RuntimeWarning: invalid value encountered in less\n",
      "  return (self.a < x) & (x < self.b)\n",
      "/home/bmmalone/.virtualenvs/algorithm-selection/lib/python3.6/site-packages/scipy/stats/_distn_infrastructure.py:1735: RuntimeWarning: invalid value encountered in greater_equal\n",
      "  cond2 = (x >= self.b) & cond0\n",
      "/home/bmmalone/.virtualenvs/algorithm-selection/lib/python3.6/site-packages/scipy/stats/_distn_infrastructure.py:876: RuntimeWarning: invalid value encountered in greater_equal\n",
      "  return (self.a <= x) & (x <= self.b)\n",
      "/home/bmmalone/.virtualenvs/algorithm-selection/lib/python3.6/site-packages/scipy/stats/_distn_infrastructure.py:876: RuntimeWarning: invalid value encountered in less_equal\n",
      "  return (self.a <= x) & (x <= self.b)\n",
      "/home/bmmalone/.virtualenvs/algorithm-selection/lib/python3.6/site-packages/smac/optimizer/acquisition.py:164: RuntimeWarning: invalid value encountered in less\n",
      "  if (f < 0).any():\n"
     ]
    },
    {
     "name": "stdout",
     "output_type": "stream",
     "text": [
      "Time limit for a single run is higher than total time limit. Capping the limit for a single run to the total time given to SMAC (119.545371)\n",
      "[WARNING] [2017-08-27 23:47:37,767:AutoMLSMBO(8675309)::a858e289a91c1e3c1e34cceb61e852c4] Could not find meta-data directory /home/bmmalone/.virtualenvs/algorithm-selection/lib/python3.6/site-packages/autosklearn/metalearning/files/mean_squared_error_regression_dense\n"
     ]
    },
    {
     "name": "stderr",
     "output_type": "stream",
     "text": [
      "You are already timing task: index_run2\n",
      "You are already timing task: index_run3\n",
      "You are already timing task: index_run3\n",
      "You are already timing task: index_run3\n",
      "You are already timing task: index_run3\n",
      "You are already timing task: index_run3\n",
      "You are already timing task: index_run3\n",
      "You are already timing task: index_run3\n",
      "You are already timing task: index_run4\n",
      "You are already timing task: index_run4\n",
      "/home/bmmalone/.virtualenvs/algorithm-selection/lib/python3.6/site-packages/autosklearn/smbo.py:737: RuntimeWarning: divide by zero encountered in true_divide\n",
      "  (1. - dataset_minimum))\n",
      "/home/bmmalone/.virtualenvs/algorithm-selection/lib/python3.6/site-packages/autosklearn/smbo.py:737: RuntimeWarning: invalid value encountered in true_divide\n",
      "  (1. - dataset_minimum))\n",
      "/home/bmmalone/.virtualenvs/algorithm-selection/lib/python3.6/site-packages/autosklearn/smbo.py:738: RuntimeWarning: invalid value encountered in greater\n",
      "  Y_cfg[:, 0][Y_cfg[:, 0] > 2] = 2\n",
      "/home/bmmalone/.virtualenvs/algorithm-selection/lib/python3.6/site-packages/scipy/stats/_distn_infrastructure.py:879: RuntimeWarning: invalid value encountered in greater\n",
      "  return (self.a < x) & (x < self.b)\n",
      "/home/bmmalone/.virtualenvs/algorithm-selection/lib/python3.6/site-packages/scipy/stats/_distn_infrastructure.py:879: RuntimeWarning: invalid value encountered in less\n",
      "  return (self.a < x) & (x < self.b)\n",
      "/home/bmmalone/.virtualenvs/algorithm-selection/lib/python3.6/site-packages/scipy/stats/_distn_infrastructure.py:1735: RuntimeWarning: invalid value encountered in greater_equal\n",
      "  cond2 = (x >= self.b) & cond0\n",
      "/home/bmmalone/.virtualenvs/algorithm-selection/lib/python3.6/site-packages/scipy/stats/_distn_infrastructure.py:876: RuntimeWarning: invalid value encountered in greater_equal\n",
      "  return (self.a <= x) & (x <= self.b)\n",
      "/home/bmmalone/.virtualenvs/algorithm-selection/lib/python3.6/site-packages/scipy/stats/_distn_infrastructure.py:876: RuntimeWarning: invalid value encountered in less_equal\n",
      "  return (self.a <= x) & (x <= self.b)\n",
      "/home/bmmalone/.virtualenvs/algorithm-selection/lib/python3.6/site-packages/smac/optimizer/acquisition.py:164: RuntimeWarning: invalid value encountered in less\n",
      "  if (f < 0).any():\n"
     ]
    },
    {
     "name": "stdout",
     "output_type": "stream",
     "text": [
      "Time limit for a single run is higher than total time limit. Capping the limit for a single run to the total time given to SMAC (119.481342)\n",
      "[WARNING] [2017-08-27 23:49:33,937:AutoMLSMBO(8675309)::a858e289a91c1e3c1e34cceb61e852c4] Could not find meta-data directory /home/bmmalone/.virtualenvs/algorithm-selection/lib/python3.6/site-packages/autosklearn/metalearning/files/mean_squared_error_regression_dense\n"
     ]
    },
    {
     "name": "stderr",
     "output_type": "stream",
     "text": [
      "You are already timing task: index_run4\n",
      "You are already timing task: index_run5\n",
      "You are already timing task: index_run5\n",
      "You are already timing task: index_run5\n",
      "You are already timing task: index_run5\n",
      "You are already timing task: index_run5\n",
      "You are already timing task: index_run5\n",
      "You are already timing task: index_run5\n",
      "You are already timing task: index_run6\n",
      "/home/bmmalone/.virtualenvs/algorithm-selection/lib/python3.6/site-packages/autosklearn/smbo.py:737: RuntimeWarning: divide by zero encountered in true_divide\n",
      "  (1. - dataset_minimum))\n",
      "/home/bmmalone/.virtualenvs/algorithm-selection/lib/python3.6/site-packages/autosklearn/smbo.py:737: RuntimeWarning: invalid value encountered in true_divide\n",
      "  (1. - dataset_minimum))\n",
      "/home/bmmalone/.virtualenvs/algorithm-selection/lib/python3.6/site-packages/autosklearn/smbo.py:738: RuntimeWarning: invalid value encountered in greater\n",
      "  Y_cfg[:, 0][Y_cfg[:, 0] > 2] = 2\n",
      "/home/bmmalone/.virtualenvs/algorithm-selection/lib/python3.6/site-packages/scipy/stats/_distn_infrastructure.py:879: RuntimeWarning: invalid value encountered in greater\n",
      "  return (self.a < x) & (x < self.b)\n",
      "/home/bmmalone/.virtualenvs/algorithm-selection/lib/python3.6/site-packages/scipy/stats/_distn_infrastructure.py:879: RuntimeWarning: invalid value encountered in less\n",
      "  return (self.a < x) & (x < self.b)\n",
      "/home/bmmalone/.virtualenvs/algorithm-selection/lib/python3.6/site-packages/scipy/stats/_distn_infrastructure.py:1735: RuntimeWarning: invalid value encountered in greater_equal\n",
      "  cond2 = (x >= self.b) & cond0\n",
      "/home/bmmalone/.virtualenvs/algorithm-selection/lib/python3.6/site-packages/scipy/stats/_distn_infrastructure.py:876: RuntimeWarning: invalid value encountered in greater_equal\n",
      "  return (self.a <= x) & (x <= self.b)\n",
      "/home/bmmalone/.virtualenvs/algorithm-selection/lib/python3.6/site-packages/scipy/stats/_distn_infrastructure.py:876: RuntimeWarning: invalid value encountered in less_equal\n",
      "  return (self.a <= x) & (x <= self.b)\n",
      "/home/bmmalone/.virtualenvs/algorithm-selection/lib/python3.6/site-packages/smac/optimizer/acquisition.py:164: RuntimeWarning: invalid value encountered in less\n",
      "  if (f < 0).any():\n"
     ]
    },
    {
     "name": "stdout",
     "output_type": "stream",
     "text": [
      "Time limit for a single run is higher than total time limit. Capping the limit for a single run to the total time given to SMAC (119.566458)\n",
      "[WARNING] [2017-08-27 23:51:30,819:AutoMLSMBO(8675309)::a858e289a91c1e3c1e34cceb61e852c4] Could not find meta-data directory /home/bmmalone/.virtualenvs/algorithm-selection/lib/python3.6/site-packages/autosklearn/metalearning/files/mean_squared_error_regression_dense\n"
     ]
    },
    {
     "name": "stderr",
     "output_type": "stream",
     "text": [
      "Process pynisher function call:\n",
      "KeyboardInterrupt\n",
      "Traceback (most recent call last):\n",
      "  File \"/home/bmmalone/local/lib/python3.6/multiprocessing/process.py\", line 249, in _bootstrap\n",
      "    self.run()\n",
      "  File \"/home/bmmalone/local/lib/python3.6/multiprocessing/process.py\", line 93, in run\n",
      "    self._target(*self._args, **self._kwargs)\n",
      "  File \"/home/bmmalone/.virtualenvs/algorithm-selection/lib/python3.6/site-packages/pynisher/limit_function_call.py\", line 83, in subprocess_func\n",
      "    return_value = ((func(*args, **kwargs), 0))\n"
     ]
    },
    {
     "ename": "KeyboardInterrupt",
     "evalue": "",
     "output_type": "error",
     "traceback": [
      "\u001b[0;31m---------------------------------------------------------------------------\u001b[0m",
      "\u001b[0;31mKeyboardInterrupt\u001b[0m                         Traceback (most recent call last)",
      "\u001b[0;32m<ipython-input-11-350c4c273564>\u001b[0m in \u001b[0;36m<module>\u001b[0;34m()\u001b[0m\n\u001b[1;32m      5\u001b[0m \u001b[0my_train\u001b[0m \u001b[0;34m=\u001b[0m \u001b[0mtraining_scenario\u001b[0m\u001b[0;34m.\u001b[0m\u001b[0mperformance_data\u001b[0m\u001b[0;34m\u001b[0m\u001b[0m\n\u001b[1;32m      6\u001b[0m \u001b[0;34m\u001b[0m\u001b[0m\n\u001b[0;32m----> 7\u001b[0;31m \u001b[0mas_asl_ensemble_fit\u001b[0m \u001b[0;34m=\u001b[0m \u001b[0mas_asl_ensemble\u001b[0m\u001b[0;34m.\u001b[0m\u001b[0mfit\u001b[0m\u001b[0;34m(\u001b[0m\u001b[0mX_train\u001b[0m\u001b[0;34m,\u001b[0m \u001b[0my_train\u001b[0m\u001b[0;34m)\u001b[0m\u001b[0;34m\u001b[0m\u001b[0m\n\u001b[0m",
      "\u001b[0;32m~/python-projects/as-auto-sklearn/as_auto_sklearn/as_asl_ensemble.py\u001b[0m in \u001b[0;36mfit\u001b[0;34m(self, X_train, y_train, metric)\u001b[0m\n\u001b[1;32m     94\u001b[0m \u001b[0;34m\u001b[0m\u001b[0m\n\u001b[1;32m     95\u001b[0m         \u001b[0mself\u001b[0m\u001b[0;34m.\u001b[0m\u001b[0m_fit_init\u001b[0m\u001b[0;34m(\u001b[0m\u001b[0mX_train\u001b[0m\u001b[0;34m,\u001b[0m \u001b[0my_train\u001b[0m\u001b[0;34m)\u001b[0m\u001b[0;34m\u001b[0m\u001b[0m\n\u001b[0;32m---> 96\u001b[0;31m         \u001b[0mself\u001b[0m\u001b[0;34m.\u001b[0m\u001b[0m_fit_regressors\u001b[0m\u001b[0;34m(\u001b[0m\u001b[0;34m)\u001b[0m\u001b[0;34m\u001b[0m\u001b[0m\n\u001b[0m\u001b[1;32m     97\u001b[0m         \u001b[0mself\u001b[0m\u001b[0;34m.\u001b[0m\u001b[0m_fit_stacking_model\u001b[0m\u001b[0;34m(\u001b[0m\u001b[0mmetric\u001b[0m\u001b[0;34m)\u001b[0m\u001b[0;34m\u001b[0m\u001b[0m\n\u001b[1;32m     98\u001b[0m \u001b[0;34m\u001b[0m\u001b[0m\n",
      "\u001b[0;32m~/python-projects/as-auto-sklearn/as_auto_sklearn/as_asl_ensemble.py\u001b[0m in \u001b[0;36m_fit_regressors\u001b[0;34m(self)\u001b[0m\n\u001b[1;32m     37\u001b[0m             \u001b[0mself\u001b[0m\u001b[0;34m.\u001b[0m\u001b[0msolvers\u001b[0m\u001b[0;34m,\u001b[0m\u001b[0;34m\u001b[0m\u001b[0m\n\u001b[1;32m     38\u001b[0m             \u001b[0mself\u001b[0m\u001b[0;34m.\u001b[0m\u001b[0margs\u001b[0m\u001b[0;34m.\u001b[0m\u001b[0mnum_cpus\u001b[0m\u001b[0;34m,\u001b[0m\u001b[0;34m\u001b[0m\u001b[0m\n\u001b[0;32m---> 39\u001b[0;31m             \u001b[0mself\u001b[0m\u001b[0;34m.\u001b[0m\u001b[0m_fit_regressor\u001b[0m\u001b[0;34m\u001b[0m\u001b[0m\n\u001b[0m\u001b[1;32m     40\u001b[0m         )\n\u001b[1;32m     41\u001b[0m \u001b[0;34m\u001b[0m\u001b[0m\n",
      "\u001b[0;32m~/python-projects/pymisc-utils/misc/parallel.py\u001b[0m in \u001b[0;36mapply_parallel_iter\u001b[0;34m(items, num_procs, func, progress_bar, total, num_groups, *args)\u001b[0m\n\u001b[1;32m     61\u001b[0m             for item in tqdm.tqdm(items, leave=True, file=sys.stdout, total=total))\n\u001b[1;32m     62\u001b[0m     \u001b[0;32melse\u001b[0m\u001b[0;34m:\u001b[0m\u001b[0;34m\u001b[0m\u001b[0m\n\u001b[0;32m---> 63\u001b[0;31m         \u001b[0mret_list\u001b[0m \u001b[0;34m=\u001b[0m \u001b[0mjoblib\u001b[0m\u001b[0;34m.\u001b[0m\u001b[0mParallel\u001b[0m\u001b[0;34m(\u001b[0m\u001b[0mn_jobs\u001b[0m\u001b[0;34m=\u001b[0m\u001b[0mnum_procs\u001b[0m\u001b[0;34m)\u001b[0m\u001b[0;34m(\u001b[0m\u001b[0mjoblib\u001b[0m\u001b[0;34m.\u001b[0m\u001b[0mdelayed\u001b[0m\u001b[0;34m(\u001b[0m\u001b[0mfunc\u001b[0m\u001b[0;34m)\u001b[0m\u001b[0;34m(\u001b[0m\u001b[0mitem\u001b[0m\u001b[0;34m,\u001b[0m \u001b[0;34m*\u001b[0m\u001b[0margs\u001b[0m\u001b[0;34m)\u001b[0m \u001b[0;32mfor\u001b[0m \u001b[0mitem\u001b[0m \u001b[0;32min\u001b[0m \u001b[0mitems\u001b[0m\u001b[0;34m)\u001b[0m\u001b[0;34m\u001b[0m\u001b[0m\n\u001b[0m\u001b[1;32m     64\u001b[0m     \u001b[0;32mreturn\u001b[0m \u001b[0mret_list\u001b[0m\u001b[0;34m\u001b[0m\u001b[0m\n\u001b[1;32m     65\u001b[0m \u001b[0;34m\u001b[0m\u001b[0m\n",
      "\u001b[0;32m~/.virtualenvs/algorithm-selection/lib/python3.6/site-packages/joblib/parallel.py\u001b[0m in \u001b[0;36m__call__\u001b[0;34m(self, iterable)\u001b[0m\n\u001b[1;32m    777\u001b[0m             \u001b[0;31m# was dispatched. In particular this covers the edge\u001b[0m\u001b[0;34m\u001b[0m\u001b[0;34m\u001b[0m\u001b[0m\n\u001b[1;32m    778\u001b[0m             \u001b[0;31m# case of Parallel used with an exhausted iterator.\u001b[0m\u001b[0;34m\u001b[0m\u001b[0;34m\u001b[0m\u001b[0m\n\u001b[0;32m--> 779\u001b[0;31m             \u001b[0;32mwhile\u001b[0m \u001b[0mself\u001b[0m\u001b[0;34m.\u001b[0m\u001b[0mdispatch_one_batch\u001b[0m\u001b[0;34m(\u001b[0m\u001b[0miterator\u001b[0m\u001b[0;34m)\u001b[0m\u001b[0;34m:\u001b[0m\u001b[0;34m\u001b[0m\u001b[0m\n\u001b[0m\u001b[1;32m    780\u001b[0m                 \u001b[0mself\u001b[0m\u001b[0;34m.\u001b[0m\u001b[0m_iterating\u001b[0m \u001b[0;34m=\u001b[0m \u001b[0;32mTrue\u001b[0m\u001b[0;34m\u001b[0m\u001b[0m\n\u001b[1;32m    781\u001b[0m             \u001b[0;32melse\u001b[0m\u001b[0;34m:\u001b[0m\u001b[0;34m\u001b[0m\u001b[0m\n",
      "\u001b[0;32m~/.virtualenvs/algorithm-selection/lib/python3.6/site-packages/joblib/parallel.py\u001b[0m in \u001b[0;36mdispatch_one_batch\u001b[0;34m(self, iterator)\u001b[0m\n\u001b[1;32m    623\u001b[0m                 \u001b[0;32mreturn\u001b[0m \u001b[0;32mFalse\u001b[0m\u001b[0;34m\u001b[0m\u001b[0m\n\u001b[1;32m    624\u001b[0m             \u001b[0;32melse\u001b[0m\u001b[0;34m:\u001b[0m\u001b[0;34m\u001b[0m\u001b[0m\n\u001b[0;32m--> 625\u001b[0;31m                 \u001b[0mself\u001b[0m\u001b[0;34m.\u001b[0m\u001b[0m_dispatch\u001b[0m\u001b[0;34m(\u001b[0m\u001b[0mtasks\u001b[0m\u001b[0;34m)\u001b[0m\u001b[0;34m\u001b[0m\u001b[0m\n\u001b[0m\u001b[1;32m    626\u001b[0m                 \u001b[0;32mreturn\u001b[0m \u001b[0;32mTrue\u001b[0m\u001b[0;34m\u001b[0m\u001b[0m\n\u001b[1;32m    627\u001b[0m \u001b[0;34m\u001b[0m\u001b[0m\n",
      "\u001b[0;32m~/.virtualenvs/algorithm-selection/lib/python3.6/site-packages/joblib/parallel.py\u001b[0m in \u001b[0;36m_dispatch\u001b[0;34m(self, batch)\u001b[0m\n\u001b[1;32m    586\u001b[0m         \u001b[0mdispatch_timestamp\u001b[0m \u001b[0;34m=\u001b[0m \u001b[0mtime\u001b[0m\u001b[0;34m.\u001b[0m\u001b[0mtime\u001b[0m\u001b[0;34m(\u001b[0m\u001b[0;34m)\u001b[0m\u001b[0;34m\u001b[0m\u001b[0m\n\u001b[1;32m    587\u001b[0m         \u001b[0mcb\u001b[0m \u001b[0;34m=\u001b[0m \u001b[0mBatchCompletionCallBack\u001b[0m\u001b[0;34m(\u001b[0m\u001b[0mdispatch_timestamp\u001b[0m\u001b[0;34m,\u001b[0m \u001b[0mlen\u001b[0m\u001b[0;34m(\u001b[0m\u001b[0mbatch\u001b[0m\u001b[0;34m)\u001b[0m\u001b[0;34m,\u001b[0m \u001b[0mself\u001b[0m\u001b[0;34m)\u001b[0m\u001b[0;34m\u001b[0m\u001b[0m\n\u001b[0;32m--> 588\u001b[0;31m         \u001b[0mjob\u001b[0m \u001b[0;34m=\u001b[0m \u001b[0mself\u001b[0m\u001b[0;34m.\u001b[0m\u001b[0m_backend\u001b[0m\u001b[0;34m.\u001b[0m\u001b[0mapply_async\u001b[0m\u001b[0;34m(\u001b[0m\u001b[0mbatch\u001b[0m\u001b[0;34m,\u001b[0m \u001b[0mcallback\u001b[0m\u001b[0;34m=\u001b[0m\u001b[0mcb\u001b[0m\u001b[0;34m)\u001b[0m\u001b[0;34m\u001b[0m\u001b[0m\n\u001b[0m\u001b[1;32m    589\u001b[0m         \u001b[0mself\u001b[0m\u001b[0;34m.\u001b[0m\u001b[0m_jobs\u001b[0m\u001b[0;34m.\u001b[0m\u001b[0mappend\u001b[0m\u001b[0;34m(\u001b[0m\u001b[0mjob\u001b[0m\u001b[0;34m)\u001b[0m\u001b[0;34m\u001b[0m\u001b[0m\n\u001b[1;32m    590\u001b[0m \u001b[0;34m\u001b[0m\u001b[0m\n",
      "\u001b[0;32m~/.virtualenvs/algorithm-selection/lib/python3.6/site-packages/joblib/_parallel_backends.py\u001b[0m in \u001b[0;36mapply_async\u001b[0;34m(self, func, callback)\u001b[0m\n\u001b[1;32m    109\u001b[0m     \u001b[0;32mdef\u001b[0m \u001b[0mapply_async\u001b[0m\u001b[0;34m(\u001b[0m\u001b[0mself\u001b[0m\u001b[0;34m,\u001b[0m \u001b[0mfunc\u001b[0m\u001b[0;34m,\u001b[0m \u001b[0mcallback\u001b[0m\u001b[0;34m=\u001b[0m\u001b[0;32mNone\u001b[0m\u001b[0;34m)\u001b[0m\u001b[0;34m:\u001b[0m\u001b[0;34m\u001b[0m\u001b[0m\n\u001b[1;32m    110\u001b[0m         \u001b[0;34m\"\"\"Schedule a func to be run\"\"\"\u001b[0m\u001b[0;34m\u001b[0m\u001b[0m\n\u001b[0;32m--> 111\u001b[0;31m         \u001b[0mresult\u001b[0m \u001b[0;34m=\u001b[0m \u001b[0mImmediateResult\u001b[0m\u001b[0;34m(\u001b[0m\u001b[0mfunc\u001b[0m\u001b[0;34m)\u001b[0m\u001b[0;34m\u001b[0m\u001b[0m\n\u001b[0m\u001b[1;32m    112\u001b[0m         \u001b[0;32mif\u001b[0m \u001b[0mcallback\u001b[0m\u001b[0;34m:\u001b[0m\u001b[0;34m\u001b[0m\u001b[0m\n\u001b[1;32m    113\u001b[0m             \u001b[0mcallback\u001b[0m\u001b[0;34m(\u001b[0m\u001b[0mresult\u001b[0m\u001b[0;34m)\u001b[0m\u001b[0;34m\u001b[0m\u001b[0m\n",
      "\u001b[0;32m~/.virtualenvs/algorithm-selection/lib/python3.6/site-packages/joblib/_parallel_backends.py\u001b[0m in \u001b[0;36m__init__\u001b[0;34m(self, batch)\u001b[0m\n\u001b[1;32m    330\u001b[0m         \u001b[0;31m# Don't delay the application, to avoid keeping the input\u001b[0m\u001b[0;34m\u001b[0m\u001b[0;34m\u001b[0m\u001b[0m\n\u001b[1;32m    331\u001b[0m         \u001b[0;31m# arguments in memory\u001b[0m\u001b[0;34m\u001b[0m\u001b[0;34m\u001b[0m\u001b[0m\n\u001b[0;32m--> 332\u001b[0;31m         \u001b[0mself\u001b[0m\u001b[0;34m.\u001b[0m\u001b[0mresults\u001b[0m \u001b[0;34m=\u001b[0m \u001b[0mbatch\u001b[0m\u001b[0;34m(\u001b[0m\u001b[0;34m)\u001b[0m\u001b[0;34m\u001b[0m\u001b[0m\n\u001b[0m\u001b[1;32m    333\u001b[0m \u001b[0;34m\u001b[0m\u001b[0m\n\u001b[1;32m    334\u001b[0m     \u001b[0;32mdef\u001b[0m \u001b[0mget\u001b[0m\u001b[0;34m(\u001b[0m\u001b[0mself\u001b[0m\u001b[0;34m)\u001b[0m\u001b[0;34m:\u001b[0m\u001b[0;34m\u001b[0m\u001b[0m\n",
      "\u001b[0;32m~/.virtualenvs/algorithm-selection/lib/python3.6/site-packages/joblib/parallel.py\u001b[0m in \u001b[0;36m__call__\u001b[0;34m(self)\u001b[0m\n\u001b[1;32m    129\u001b[0m \u001b[0;34m\u001b[0m\u001b[0m\n\u001b[1;32m    130\u001b[0m     \u001b[0;32mdef\u001b[0m \u001b[0m__call__\u001b[0m\u001b[0;34m(\u001b[0m\u001b[0mself\u001b[0m\u001b[0;34m)\u001b[0m\u001b[0;34m:\u001b[0m\u001b[0;34m\u001b[0m\u001b[0m\n\u001b[0;32m--> 131\u001b[0;31m         \u001b[0;32mreturn\u001b[0m \u001b[0;34m[\u001b[0m\u001b[0mfunc\u001b[0m\u001b[0;34m(\u001b[0m\u001b[0;34m*\u001b[0m\u001b[0margs\u001b[0m\u001b[0;34m,\u001b[0m \u001b[0;34m**\u001b[0m\u001b[0mkwargs\u001b[0m\u001b[0;34m)\u001b[0m \u001b[0;32mfor\u001b[0m \u001b[0mfunc\u001b[0m\u001b[0;34m,\u001b[0m \u001b[0margs\u001b[0m\u001b[0;34m,\u001b[0m \u001b[0mkwargs\u001b[0m \u001b[0;32min\u001b[0m \u001b[0mself\u001b[0m\u001b[0;34m.\u001b[0m\u001b[0mitems\u001b[0m\u001b[0;34m]\u001b[0m\u001b[0;34m\u001b[0m\u001b[0m\n\u001b[0m\u001b[1;32m    132\u001b[0m \u001b[0;34m\u001b[0m\u001b[0m\n\u001b[1;32m    133\u001b[0m     \u001b[0;32mdef\u001b[0m \u001b[0m__len__\u001b[0m\u001b[0;34m(\u001b[0m\u001b[0mself\u001b[0m\u001b[0;34m)\u001b[0m\u001b[0;34m:\u001b[0m\u001b[0;34m\u001b[0m\u001b[0m\n",
      "\u001b[0;32m~/.virtualenvs/algorithm-selection/lib/python3.6/site-packages/joblib/parallel.py\u001b[0m in \u001b[0;36m<listcomp>\u001b[0;34m(.0)\u001b[0m\n\u001b[1;32m    129\u001b[0m \u001b[0;34m\u001b[0m\u001b[0m\n\u001b[1;32m    130\u001b[0m     \u001b[0;32mdef\u001b[0m \u001b[0m__call__\u001b[0m\u001b[0;34m(\u001b[0m\u001b[0mself\u001b[0m\u001b[0;34m)\u001b[0m\u001b[0;34m:\u001b[0m\u001b[0;34m\u001b[0m\u001b[0m\n\u001b[0;32m--> 131\u001b[0;31m         \u001b[0;32mreturn\u001b[0m \u001b[0;34m[\u001b[0m\u001b[0mfunc\u001b[0m\u001b[0;34m(\u001b[0m\u001b[0;34m*\u001b[0m\u001b[0margs\u001b[0m\u001b[0;34m,\u001b[0m \u001b[0;34m**\u001b[0m\u001b[0mkwargs\u001b[0m\u001b[0;34m)\u001b[0m \u001b[0;32mfor\u001b[0m \u001b[0mfunc\u001b[0m\u001b[0;34m,\u001b[0m \u001b[0margs\u001b[0m\u001b[0;34m,\u001b[0m \u001b[0mkwargs\u001b[0m \u001b[0;32min\u001b[0m \u001b[0mself\u001b[0m\u001b[0;34m.\u001b[0m\u001b[0mitems\u001b[0m\u001b[0;34m]\u001b[0m\u001b[0;34m\u001b[0m\u001b[0m\n\u001b[0m\u001b[1;32m    132\u001b[0m \u001b[0;34m\u001b[0m\u001b[0m\n\u001b[1;32m    133\u001b[0m     \u001b[0;32mdef\u001b[0m \u001b[0m__len__\u001b[0m\u001b[0;34m(\u001b[0m\u001b[0mself\u001b[0m\u001b[0;34m)\u001b[0m\u001b[0;34m:\u001b[0m\u001b[0;34m\u001b[0m\u001b[0m\n",
      "\u001b[0;32m~/python-projects/as-auto-sklearn/as_auto_sklearn/as_asl_ensemble.py\u001b[0m in \u001b[0;36m_fit_regressor\u001b[0;34m(self, solver)\u001b[0m\n\u001b[1;32m     21\u001b[0m         \u001b[0mmetric\u001b[0m \u001b[0;34m=\u001b[0m \u001b[0mautosklearn\u001b[0m\u001b[0;34m.\u001b[0m\u001b[0mmetrics\u001b[0m\u001b[0;34m.\u001b[0m\u001b[0mmean_squared_error\u001b[0m\u001b[0;34m\u001b[0m\u001b[0m\n\u001b[1;32m     22\u001b[0m \u001b[0;34m\u001b[0m\u001b[0m\n\u001b[0;32m---> 23\u001b[0;31m         \u001b[0mmodel_fit\u001b[0m \u001b[0;34m=\u001b[0m \u001b[0mmodel\u001b[0m\u001b[0;34m.\u001b[0m\u001b[0mfit\u001b[0m\u001b[0;34m(\u001b[0m\u001b[0mself\u001b[0m\u001b[0;34m.\u001b[0m\u001b[0mX_train\u001b[0m\u001b[0;34m,\u001b[0m \u001b[0my_train\u001b[0m\u001b[0;34m,\u001b[0m \u001b[0mmetric\u001b[0m\u001b[0;34m=\u001b[0m\u001b[0mmetric\u001b[0m\u001b[0;34m)\u001b[0m\u001b[0;34m\u001b[0m\u001b[0m\n\u001b[0m\u001b[1;32m     24\u001b[0m         \u001b[0;32mreturn\u001b[0m \u001b[0;34m(\u001b[0m\u001b[0msolver\u001b[0m\u001b[0;34m,\u001b[0m \u001b[0mmodel_fit\u001b[0m\u001b[0;34m)\u001b[0m\u001b[0;34m\u001b[0m\u001b[0m\n\u001b[1;32m     25\u001b[0m \u001b[0;34m\u001b[0m\u001b[0m\n",
      "\u001b[0;32m~/python-projects/pymisc-utils/misc/automl_utils.py\u001b[0m in \u001b[0;36mfit\u001b[0;34m(self, X_train, y, metric, encode_y)\u001b[0m\n\u001b[1;32m    454\u001b[0m         \u001b[0mlogger\u001b[0m\u001b[0;34m.\u001b[0m\u001b[0mdebug\u001b[0m\u001b[0;34m(\u001b[0m\u001b[0mmsg\u001b[0m\u001b[0;34m)\u001b[0m\u001b[0;34m\u001b[0m\u001b[0m\n\u001b[1;32m    455\u001b[0m \u001b[0;34m\u001b[0m\u001b[0m\n\u001b[0;32m--> 456\u001b[0;31m         \u001b[0mself\u001b[0m\u001b[0;34m.\u001b[0m\u001b[0mautosklearn_optimizer\u001b[0m\u001b[0;34m.\u001b[0m\u001b[0mfit\u001b[0m\u001b[0;34m(\u001b[0m\u001b[0mX_train\u001b[0m\u001b[0;34m,\u001b[0m \u001b[0my\u001b[0m\u001b[0;34m,\u001b[0m \u001b[0mmetric\u001b[0m\u001b[0;34m=\u001b[0m\u001b[0mmetric\u001b[0m\u001b[0;34m)\u001b[0m\u001b[0;34m\u001b[0m\u001b[0m\n\u001b[0m\u001b[1;32m    457\u001b[0m \u001b[0;34m\u001b[0m\u001b[0m\n\u001b[1;32m    458\u001b[0m         vals = _extract_autosklearn_ensemble(\n",
      "\u001b[0;32m~/.virtualenvs/algorithm-selection/lib/python3.6/site-packages/autosklearn/estimators.py\u001b[0m in \u001b[0;36mfit\u001b[0;34m(self, X, y, metric, feat_type, dataset_name)\u001b[0m\n\u001b[1;32m    487\u001b[0m         return super(AutoSklearnRegressor, self).fit(X=X, y=y, metric=metric,\n\u001b[1;32m    488\u001b[0m                                                      \u001b[0mfeat_type\u001b[0m\u001b[0;34m=\u001b[0m\u001b[0mfeat_type\u001b[0m\u001b[0;34m,\u001b[0m\u001b[0;34m\u001b[0m\u001b[0m\n\u001b[0;32m--> 489\u001b[0;31m                                                      dataset_name=dataset_name)\n\u001b[0m\u001b[1;32m    490\u001b[0m \u001b[0;34m\u001b[0m\u001b[0m\n\u001b[1;32m    491\u001b[0m     \u001b[0;32mdef\u001b[0m \u001b[0mpredict\u001b[0m\u001b[0;34m(\u001b[0m\u001b[0mself\u001b[0m\u001b[0;34m,\u001b[0m \u001b[0mX\u001b[0m\u001b[0;34m,\u001b[0m \u001b[0mbatch_size\u001b[0m\u001b[0;34m=\u001b[0m\u001b[0;32mNone\u001b[0m\u001b[0;34m,\u001b[0m \u001b[0mn_jobs\u001b[0m\u001b[0;34m=\u001b[0m\u001b[0;36m1\u001b[0m\u001b[0;34m)\u001b[0m\u001b[0;34m:\u001b[0m\u001b[0;34m\u001b[0m\u001b[0m\n",
      "\u001b[0;32m~/.virtualenvs/algorithm-selection/lib/python3.6/site-packages/autosklearn/estimators.py\u001b[0m in \u001b[0;36mfit\u001b[0;34m(self, *args, **kwargs)\u001b[0m\n\u001b[1;32m    302\u001b[0m     \u001b[0;32mdef\u001b[0m \u001b[0mfit\u001b[0m\u001b[0;34m(\u001b[0m\u001b[0mself\u001b[0m\u001b[0;34m,\u001b[0m \u001b[0;34m*\u001b[0m\u001b[0margs\u001b[0m\u001b[0;34m,\u001b[0m \u001b[0;34m**\u001b[0m\u001b[0mkwargs\u001b[0m\u001b[0;34m)\u001b[0m\u001b[0;34m:\u001b[0m\u001b[0;34m\u001b[0m\u001b[0m\n\u001b[1;32m    303\u001b[0m         \u001b[0mself\u001b[0m\u001b[0;34m.\u001b[0m\u001b[0m_automl\u001b[0m \u001b[0;34m=\u001b[0m \u001b[0mself\u001b[0m\u001b[0;34m.\u001b[0m\u001b[0mbuild_automl\u001b[0m\u001b[0;34m(\u001b[0m\u001b[0;34m)\u001b[0m\u001b[0;34m\u001b[0m\u001b[0m\n\u001b[0;32m--> 304\u001b[0;31m         \u001b[0msuper\u001b[0m\u001b[0;34m(\u001b[0m\u001b[0mAutoSklearnEstimator\u001b[0m\u001b[0;34m,\u001b[0m \u001b[0mself\u001b[0m\u001b[0;34m)\u001b[0m\u001b[0;34m.\u001b[0m\u001b[0mfit\u001b[0m\u001b[0;34m(\u001b[0m\u001b[0;34m*\u001b[0m\u001b[0margs\u001b[0m\u001b[0;34m,\u001b[0m \u001b[0;34m**\u001b[0m\u001b[0mkwargs\u001b[0m\u001b[0;34m)\u001b[0m\u001b[0;34m\u001b[0m\u001b[0m\n\u001b[0m\u001b[1;32m    305\u001b[0m \u001b[0;34m\u001b[0m\u001b[0m\n\u001b[1;32m    306\u001b[0m     def fit_ensemble(self, y, task=None, metric=None, precision='32',\n",
      "\u001b[0;32m~/.virtualenvs/algorithm-selection/lib/python3.6/site-packages/autosklearn/estimators.py\u001b[0m in \u001b[0;36mfit\u001b[0;34m(self, *args, **kwargs)\u001b[0m\n\u001b[1;32m     21\u001b[0m \u001b[0;34m\u001b[0m\u001b[0m\n\u001b[1;32m     22\u001b[0m     \u001b[0;32mdef\u001b[0m \u001b[0mfit\u001b[0m\u001b[0;34m(\u001b[0m\u001b[0mself\u001b[0m\u001b[0;34m,\u001b[0m \u001b[0;34m*\u001b[0m\u001b[0margs\u001b[0m\u001b[0;34m,\u001b[0m \u001b[0;34m**\u001b[0m\u001b[0mkwargs\u001b[0m\u001b[0;34m)\u001b[0m\u001b[0;34m:\u001b[0m\u001b[0;34m\u001b[0m\u001b[0m\n\u001b[0;32m---> 23\u001b[0;31m         \u001b[0mself\u001b[0m\u001b[0;34m.\u001b[0m\u001b[0m_automl\u001b[0m\u001b[0;34m.\u001b[0m\u001b[0mfit\u001b[0m\u001b[0;34m(\u001b[0m\u001b[0;34m*\u001b[0m\u001b[0margs\u001b[0m\u001b[0;34m,\u001b[0m \u001b[0;34m**\u001b[0m\u001b[0mkwargs\u001b[0m\u001b[0;34m)\u001b[0m\u001b[0;34m\u001b[0m\u001b[0m\n\u001b[0m\u001b[1;32m     24\u001b[0m \u001b[0;34m\u001b[0m\u001b[0m\n\u001b[1;32m     25\u001b[0m     \u001b[0;32mdef\u001b[0m \u001b[0mrefit\u001b[0m\u001b[0;34m(\u001b[0m\u001b[0mself\u001b[0m\u001b[0;34m,\u001b[0m \u001b[0mX\u001b[0m\u001b[0;34m,\u001b[0m \u001b[0my\u001b[0m\u001b[0;34m)\u001b[0m\u001b[0;34m:\u001b[0m\u001b[0;34m\u001b[0m\u001b[0m\n",
      "\u001b[0;32m~/.virtualenvs/algorithm-selection/lib/python3.6/site-packages/autosklearn/estimators.py\u001b[0m in \u001b[0;36mfit\u001b[0;34m(self, X, y, metric, feat_type, dataset_name)\u001b[0m\n\u001b[1;32m    619\u001b[0m             \u001b[0mmetric\u001b[0m \u001b[0;34m=\u001b[0m \u001b[0mr2\u001b[0m\u001b[0;34m\u001b[0m\u001b[0m\n\u001b[1;32m    620\u001b[0m         return self._automl.fit(X=X, y=y, task=REGRESSION, metric=metric,\n\u001b[0;32m--> 621\u001b[0;31m                                 feat_type=feat_type, dataset_name=dataset_name)\n\u001b[0m",
      "\u001b[0;32m~/.virtualenvs/algorithm-selection/lib/python3.6/site-packages/autosklearn/automl.py\u001b[0m in \u001b[0;36mfit\u001b[0;34m(self, X, y, task, metric, feat_type, dataset_name)\u001b[0m\n\u001b[1;32m    193\u001b[0m                                             dataset_name=dataset_name)\n\u001b[1;32m    194\u001b[0m \u001b[0;34m\u001b[0m\u001b[0m\n\u001b[0;32m--> 195\u001b[0;31m         \u001b[0;32mreturn\u001b[0m \u001b[0mself\u001b[0m\u001b[0;34m.\u001b[0m\u001b[0m_fit\u001b[0m\u001b[0;34m(\u001b[0m\u001b[0mloaded_data_manager\u001b[0m\u001b[0;34m,\u001b[0m \u001b[0mmetric\u001b[0m\u001b[0;34m)\u001b[0m\u001b[0;34m\u001b[0m\u001b[0m\n\u001b[0m\u001b[1;32m    196\u001b[0m \u001b[0;34m\u001b[0m\u001b[0m\n\u001b[1;32m    197\u001b[0m     \u001b[0;32mdef\u001b[0m \u001b[0mfit_automl_dataset\u001b[0m\u001b[0;34m(\u001b[0m\u001b[0mself\u001b[0m\u001b[0;34m,\u001b[0m \u001b[0mdataset\u001b[0m\u001b[0;34m,\u001b[0m \u001b[0mmetric\u001b[0m\u001b[0;34m)\u001b[0m\u001b[0;34m:\u001b[0m\u001b[0;34m\u001b[0m\u001b[0m\n",
      "\u001b[0;32m~/.virtualenvs/algorithm-selection/lib/python3.6/site-packages/autosklearn/automl.py\u001b[0m in \u001b[0;36m_fit\u001b[0;34m(self, datamanager, metric)\u001b[0m\n\u001b[1;32m    447\u001b[0m                                     configuration_mode=self._configuration_mode)\n\u001b[1;32m    448\u001b[0m             \u001b[0mself\u001b[0m\u001b[0;34m.\u001b[0m\u001b[0mrunhistory_\u001b[0m\u001b[0;34m,\u001b[0m \u001b[0mself\u001b[0m\u001b[0;34m.\u001b[0m\u001b[0mtrajectory_\u001b[0m\u001b[0;34m,\u001b[0m \u001b[0mself\u001b[0m\u001b[0;34m.\u001b[0m\u001b[0mfANOVA_input_\u001b[0m \u001b[0;34m=\u001b[0m\u001b[0;31m \u001b[0m\u001b[0;31m\\\u001b[0m\u001b[0;34m\u001b[0m\u001b[0m\n\u001b[0;32m--> 449\u001b[0;31m                 \u001b[0m_proc_smac\u001b[0m\u001b[0;34m.\u001b[0m\u001b[0mrun_smbo\u001b[0m\u001b[0;34m(\u001b[0m\u001b[0;34m)\u001b[0m\u001b[0;34m\u001b[0m\u001b[0m\n\u001b[0m\u001b[1;32m    450\u001b[0m             trajectory_filename = os.path.join(\n\u001b[1;32m    451\u001b[0m                 \u001b[0mself\u001b[0m\u001b[0;34m.\u001b[0m\u001b[0m_backend\u001b[0m\u001b[0;34m.\u001b[0m\u001b[0mget_smac_output_directory\u001b[0m\u001b[0;34m(\u001b[0m\u001b[0mself\u001b[0m\u001b[0;34m.\u001b[0m\u001b[0m_seed\u001b[0m\u001b[0;34m)\u001b[0m \u001b[0;34m+\u001b[0m \u001b[0;34m'_run1'\u001b[0m\u001b[0;34m,\u001b[0m\u001b[0;34m\u001b[0m\u001b[0m\n",
      "\u001b[0;32m~/.virtualenvs/algorithm-selection/lib/python3.6/site-packages/autosklearn/smbo.py\u001b[0m in \u001b[0;36mrun_smbo\u001b[0;34m(self)\u001b[0m\n\u001b[1;32m    689\u001b[0m             \u001b[0mchoose_next_start_time\u001b[0m \u001b[0;34m=\u001b[0m \u001b[0mtime\u001b[0m\u001b[0;34m.\u001b[0m\u001b[0mtime\u001b[0m\u001b[0;34m(\u001b[0m\u001b[0;34m)\u001b[0m\u001b[0;34m\u001b[0m\u001b[0m\n\u001b[1;32m    690\u001b[0m             \u001b[0;32mtry\u001b[0m\u001b[0;34m:\u001b[0m\u001b[0;34m\u001b[0m\u001b[0m\n\u001b[0;32m--> 691\u001b[0;31m                 \u001b[0mchallengers\u001b[0m \u001b[0;34m=\u001b[0m \u001b[0mself\u001b[0m\u001b[0;34m.\u001b[0m\u001b[0mchoose_next\u001b[0m\u001b[0;34m(\u001b[0m\u001b[0msmac\u001b[0m\u001b[0;34m)\u001b[0m\u001b[0;34m\u001b[0m\u001b[0m\n\u001b[0m\u001b[1;32m    692\u001b[0m             \u001b[0;32mexcept\u001b[0m \u001b[0mException\u001b[0m \u001b[0;32mas\u001b[0m \u001b[0me\u001b[0m\u001b[0;34m:\u001b[0m\u001b[0;34m\u001b[0m\u001b[0m\n\u001b[1;32m    693\u001b[0m                 \u001b[0mself\u001b[0m\u001b[0;34m.\u001b[0m\u001b[0mlogger\u001b[0m\u001b[0;34m.\u001b[0m\u001b[0merror\u001b[0m\u001b[0;34m(\u001b[0m\u001b[0me\u001b[0m\u001b[0;34m)\u001b[0m\u001b[0;34m\u001b[0m\u001b[0m\n",
      "\u001b[0;32m~/.virtualenvs/algorithm-selection/lib/python3.6/site-packages/autosklearn/smbo.py\u001b[0m in \u001b[0;36mchoose_next\u001b[0;34m(self, smac)\u001b[0m\n\u001b[1;32m    758\u001b[0m             num_configurations_by_random_search_sorted=500)\n\u001b[1;32m    759\u001b[0m \u001b[0;34m\u001b[0m\u001b[0m\n\u001b[0;32m--> 760\u001b[0;31m         \u001b[0mchallengers\u001b[0m\u001b[0;34m.\u001b[0m\u001b[0mextend\u001b[0m\u001b[0;34m(\u001b[0m\u001b[0mnext_configs_tmp\u001b[0m\u001b[0;34m)\u001b[0m\u001b[0;34m\u001b[0m\u001b[0m\n\u001b[0m\u001b[1;32m    761\u001b[0m \u001b[0;34m\u001b[0m\u001b[0m\n\u001b[1;32m    762\u001b[0m         \u001b[0;32mreturn\u001b[0m \u001b[0mchallengers\u001b[0m\u001b[0;34m\u001b[0m\u001b[0m\n",
      "\u001b[0;32m~/.virtualenvs/algorithm-selection/lib/python3.6/site-packages/smac/optimizer/smbo.py\u001b[0m in \u001b[0;36m__next__\u001b[0;34m(self)\u001b[0m\n\u001b[1;32m    381\u001b[0m         \u001b[0;32melif\u001b[0m \u001b[0mself\u001b[0m\u001b[0;34m.\u001b[0m\u001b[0m_next_is_random\u001b[0m\u001b[0;34m:\u001b[0m\u001b[0;34m\u001b[0m\u001b[0m\n\u001b[1;32m    382\u001b[0m             \u001b[0mself\u001b[0m\u001b[0;34m.\u001b[0m\u001b[0m_next_is_random\u001b[0m \u001b[0;34m=\u001b[0m \u001b[0;32mFalse\u001b[0m\u001b[0;34m\u001b[0m\u001b[0m\n\u001b[0;32m--> 383\u001b[0;31m             \u001b[0mconfig\u001b[0m \u001b[0;34m=\u001b[0m \u001b[0mself\u001b[0m\u001b[0;34m.\u001b[0m\u001b[0mconfiguration_space\u001b[0m\u001b[0;34m.\u001b[0m\u001b[0msample_configuration\u001b[0m\u001b[0;34m(\u001b[0m\u001b[0;34m)\u001b[0m\u001b[0;34m\u001b[0m\u001b[0m\n\u001b[0m\u001b[1;32m    384\u001b[0m             \u001b[0mconfig\u001b[0m\u001b[0;34m.\u001b[0m\u001b[0morigin\u001b[0m \u001b[0;34m=\u001b[0m \u001b[0;34m'Random Search'\u001b[0m\u001b[0;34m\u001b[0m\u001b[0m\n\u001b[1;32m    385\u001b[0m             \u001b[0;32mreturn\u001b[0m \u001b[0mconfig\u001b[0m\u001b[0;34m\u001b[0m\u001b[0m\n",
      "\u001b[0;32m~/.virtualenvs/algorithm-selection/lib/python3.6/site-packages/ConfigSpace/configuration_space.py\u001b[0m in \u001b[0;36msample_configuration\u001b[0;34m(self, size)\u001b[0m\n\u001b[1;32m    895\u001b[0m             \u001b[0;32mfor\u001b[0m \u001b[0mi\u001b[0m\u001b[0;34m,\u001b[0m \u001b[0mhp_name\u001b[0m \u001b[0;32min\u001b[0m \u001b[0menumerate\u001b[0m\u001b[0;34m(\u001b[0m\u001b[0mself\u001b[0m\u001b[0;34m.\u001b[0m\u001b[0m_hyperparameters\u001b[0m\u001b[0;34m)\u001b[0m\u001b[0;34m:\u001b[0m\u001b[0;34m\u001b[0m\u001b[0m\n\u001b[1;32m    896\u001b[0m                 \u001b[0mhyperparameter\u001b[0m \u001b[0;34m=\u001b[0m \u001b[0mself\u001b[0m\u001b[0;34m.\u001b[0m\u001b[0m_hyperparameters\u001b[0m\u001b[0;34m[\u001b[0m\u001b[0mhp_name\u001b[0m\u001b[0;34m]\u001b[0m\u001b[0;34m\u001b[0m\u001b[0m\n\u001b[0;32m--> 897\u001b[0;31m                 \u001b[0mvector\u001b[0m\u001b[0;34m[\u001b[0m\u001b[0;34m:\u001b[0m\u001b[0;34m,\u001b[0m \u001b[0mi\u001b[0m\u001b[0;34m]\u001b[0m \u001b[0;34m=\u001b[0m \u001b[0mhyperparameter\u001b[0m\u001b[0;34m.\u001b[0m\u001b[0m_sample\u001b[0m\u001b[0;34m(\u001b[0m\u001b[0mself\u001b[0m\u001b[0;34m.\u001b[0m\u001b[0mrandom\u001b[0m\u001b[0;34m,\u001b[0m \u001b[0mmissing\u001b[0m\u001b[0;34m)\u001b[0m\u001b[0;34m\u001b[0m\u001b[0m\n\u001b[0m\u001b[1;32m    898\u001b[0m \u001b[0;34m\u001b[0m\u001b[0m\n\u001b[1;32m    899\u001b[0m             \u001b[0;32mfor\u001b[0m \u001b[0mi\u001b[0m \u001b[0;32min\u001b[0m \u001b[0mrange\u001b[0m\u001b[0;34m(\u001b[0m\u001b[0mmissing\u001b[0m\u001b[0;34m)\u001b[0m\u001b[0;34m:\u001b[0m\u001b[0;34m\u001b[0m\u001b[0m\n",
      "\u001b[0;32m~/.virtualenvs/algorithm-selection/lib/python3.6/site-packages/ConfigSpace/hyperparameters.py\u001b[0m in \u001b[0;36m_sample\u001b[0;34m(self, rs, size)\u001b[0m\n\u001b[1;32m    798\u001b[0m \u001b[0;34m\u001b[0m\u001b[0m\n\u001b[1;32m    799\u001b[0m     \u001b[0;32mdef\u001b[0m \u001b[0m_sample\u001b[0m\u001b[0;34m(\u001b[0m\u001b[0mself\u001b[0m\u001b[0;34m,\u001b[0m \u001b[0mrs\u001b[0m\u001b[0;34m:\u001b[0m \u001b[0mnp\u001b[0m\u001b[0;34m.\u001b[0m\u001b[0mrandom\u001b[0m\u001b[0;34m.\u001b[0m\u001b[0mRandomState\u001b[0m\u001b[0;34m,\u001b[0m \u001b[0msize\u001b[0m\u001b[0;34m:\u001b[0m \u001b[0mint\u001b[0m \u001b[0;34m=\u001b[0m \u001b[0;32mNone\u001b[0m\u001b[0;34m)\u001b[0m \u001b[0;34m->\u001b[0m \u001b[0mUnion\u001b[0m\u001b[0;34m[\u001b[0m\u001b[0mint\u001b[0m\u001b[0;34m,\u001b[0m \u001b[0mnp\u001b[0m\u001b[0;34m.\u001b[0m\u001b[0mndarray\u001b[0m\u001b[0;34m]\u001b[0m\u001b[0;34m:\u001b[0m\u001b[0;34m\u001b[0m\u001b[0m\n\u001b[0;32m--> 800\u001b[0;31m         \u001b[0;32mreturn\u001b[0m \u001b[0mrs\u001b[0m\u001b[0;34m.\u001b[0m\u001b[0mrandint\u001b[0m\u001b[0;34m(\u001b[0m\u001b[0;36m0\u001b[0m\u001b[0;34m,\u001b[0m \u001b[0mself\u001b[0m\u001b[0;34m.\u001b[0m\u001b[0m_num_choices\u001b[0m\u001b[0;34m,\u001b[0m \u001b[0msize\u001b[0m\u001b[0;34m=\u001b[0m\u001b[0msize\u001b[0m\u001b[0;34m)\u001b[0m\u001b[0;34m\u001b[0m\u001b[0m\n\u001b[0m\u001b[1;32m    801\u001b[0m \u001b[0;34m\u001b[0m\u001b[0m\n\u001b[1;32m    802\u001b[0m     \u001b[0;32mdef\u001b[0m \u001b[0m_transform\u001b[0m\u001b[0;34m(\u001b[0m\u001b[0mself\u001b[0m\u001b[0;34m,\u001b[0m \u001b[0mvector\u001b[0m\u001b[0;34m:\u001b[0m \u001b[0mnp\u001b[0m\u001b[0;34m.\u001b[0m\u001b[0mndarray\u001b[0m\u001b[0;34m)\u001b[0m \u001b[0;34m->\u001b[0m \u001b[0mUnion\u001b[0m\u001b[0;34m[\u001b[0m\u001b[0;32mNone\u001b[0m\u001b[0;34m,\u001b[0m \u001b[0mstr\u001b[0m\u001b[0;34m,\u001b[0m \u001b[0mint\u001b[0m\u001b[0;34m,\u001b[0m \u001b[0mfloat\u001b[0m\u001b[0;34m]\u001b[0m\u001b[0;34m:\u001b[0m\u001b[0;34m\u001b[0m\u001b[0m\n",
      "\u001b[0;31mKeyboardInterrupt\u001b[0m: "
     ]
    },
    {
     "name": "stderr",
     "output_type": "stream",
     "text": [
      "  File \"/home/bmmalone/.virtualenvs/algorithm-selection/lib/python3.6/site-packages/autosklearn/ensemble_builder.py\", line 146, in main\n",
      "    time.sleep(2)\n"
     ]
    }
   ],
   "source": [
    "args.num_cpus = 1\n",
    "as_asl_ensemble = ASaslEnsemble(args=args, solvers=training_scenario.algorithms)\n",
    "\n",
    "X_train = training_scenario.feature_data\n",
    "y_train = training_scenario.performance_data\n",
    "\n",
    "as_asl_ensemble_fit = as_asl_ensemble.fit(X_train, y_train)"
   ]
  },
  {
   "cell_type": "code",
   "execution_count": null,
   "metadata": {
    "collapsed": true
   },
   "outputs": [],
   "source": [
    "\n",
    "as_asl_ensemble_fit.predict_proba(X_train)"
   ]
  },
  {
   "cell_type": "code",
   "execution_count": null,
   "metadata": {
    "collapsed": true
   },
   "outputs": [],
   "source": []
  },
  {
   "cell_type": "code",
   "execution_count": null,
   "metadata": {
    "collapsed": true
   },
   "outputs": [],
   "source": []
  },
  {
   "cell_type": "code",
   "execution_count": null,
   "metadata": {
    "collapsed": true
   },
   "outputs": [],
   "source": []
  },
  {
   "cell_type": "code",
   "execution_count": null,
   "metadata": {
    "collapsed": true
   },
   "outputs": [],
   "source": []
  },
  {
   "cell_type": "code",
   "execution_count": null,
   "metadata": {
    "collapsed": true
   },
   "outputs": [],
   "source": []
  },
  {
   "cell_type": "code",
   "execution_count": null,
   "metadata": {
    "collapsed": true
   },
   "outputs": [],
   "source": []
  },
  {
   "cell_type": "code",
   "execution_count": null,
   "metadata": {
    "collapsed": true
   },
   "outputs": [],
   "source": []
  },
  {
   "cell_type": "code",
   "execution_count": null,
   "metadata": {
    "collapsed": true
   },
   "outputs": [],
   "source": []
  },
  {
   "cell_type": "code",
   "execution_count": null,
   "metadata": {
    "collapsed": true
   },
   "outputs": [],
   "source": []
  },
  {
   "cell_type": "code",
   "execution_count": null,
   "metadata": {
    "collapsed": true
   },
   "outputs": [],
   "source": []
  },
  {
   "cell_type": "code",
   "execution_count": null,
   "metadata": {
    "collapsed": true
   },
   "outputs": [],
   "source": []
  },
  {
   "cell_type": "code",
   "execution_count": null,
   "metadata": {
    "collapsed": true
   },
   "outputs": [],
   "source": []
  },
  {
   "cell_type": "code",
   "execution_count": null,
   "metadata": {
    "collapsed": true
   },
   "outputs": [],
   "source": []
  },
  {
   "cell_type": "code",
   "execution_count": null,
   "metadata": {},
   "outputs": [],
   "source": [
    "scenario = training_scenarios[0]"
   ]
  },
  {
   "cell_type": "code",
   "execution_count": null,
   "metadata": {
    "scrolled": true
   },
   "outputs": [],
   "source": [
    "as_asl_ensemble = ASaslEnsemble(args=args, solvers=scenario.algorithms)\n",
    "\n",
    "X_train = scenario.feature_data\n",
    "y_train = scenario.performance_data\n",
    "\n",
    "as_asl_ensemble_fit = as_asl_ensemble.fit(X_train, y_train)"
   ]
  },
  {
   "cell_type": "code",
   "execution_count": null,
   "metadata": {},
   "outputs": [],
   "source": [
    "\n",
    "as_asl_ensemble._fit_stacking_model(m)"
   ]
  },
  {
   "cell_type": "code",
   "execution_count": null,
   "metadata": {
    "collapsed": true
   },
   "outputs": [],
   "source": []
  },
  {
   "cell_type": "code",
   "execution_count": null,
   "metadata": {
    "collapsed": true
   },
   "outputs": [],
   "source": []
  },
  {
   "cell_type": "code",
   "execution_count": null,
   "metadata": {
    "collapsed": true
   },
   "outputs": [],
   "source": []
  },
  {
   "cell_type": "code",
   "execution_count": null,
   "metadata": {
    "collapsed": true
   },
   "outputs": [],
   "source": []
  },
  {
   "cell_type": "code",
   "execution_count": null,
   "metadata": {
    "scrolled": false
   },
   "outputs": [],
   "source": [
    "as_asl_ensemble = ASaslEnsemble(args=args, solvers=scenario.algorithms)\n",
    "\n",
    "X_train = scenario.feature_data\n",
    "y_train = scenario.performance_data\n",
    "\n",
    "as_asl_ensemble_fit = as_asl_ensemble.fit(X_train, y_train)\n",
    "as_asl_ensemble_fit.predict_proba(X_train)"
   ]
  },
  {
   "cell_type": "code",
   "execution_count": null,
   "metadata": {},
   "outputs": [],
   "source": [
    "for e in as_asl_ensemble.stacking_model_.get_estimators():\n",
    "    print(e.classes_)"
   ]
  },
  {
   "cell_type": "code",
   "execution_count": null,
   "metadata": {
    "collapsed": true
   },
   "outputs": [],
   "source": []
  },
  {
   "cell_type": "code",
   "execution_count": null,
   "metadata": {
    "collapsed": true
   },
   "outputs": [],
   "source": []
  },
  {
   "cell_type": "code",
   "execution_count": null,
   "metadata": {
    "collapsed": true
   },
   "outputs": [],
   "source": []
  },
  {
   "cell_type": "code",
   "execution_count": null,
   "metadata": {
    "collapsed": true
   },
   "outputs": [],
   "source": []
  },
  {
   "cell_type": "code",
   "execution_count": null,
   "metadata": {},
   "outputs": [],
   "source": [
    "def solver_quality_loss(y, y_pred, as_asl_ensemble):\n",
    "    \"\"\" Calculate the loss between the solver indicated by y_pred and the best solver\n",
    "    \n",
    "    Parameters\n",
    "    ----------\n",
    "    y: np.array\n",
    "        All solver runtimes on all instances\n",
    "        \n",
    "    y_pred: np.array\n",
    "        The selected solver for each instance\n",
    "        \n",
    "    y_best: np.array\n",
    "        The runtime of the best solver on each instance\n",
    "    \"\"\"\n",
    "    print(y.shape)\n",
    "    print(y_pred.shape)\n",
    "    print(as_asl_ensemble)\n",
    "    \n",
    "    print(y)\n",
    "    print(y_pred)\n",
    "    \n",
    "    raise ValueError(\"quit\")\n",
    "    \n",
    "    \n",
    "    print(y_best.shape)\n",
    "    i = np.arange(len(y_train_values), dtype=int),y_pred\n",
    "    y_qual = y_train_values[i]\n",
    "\n",
    "    qual_loss = y_qual - y_best\n",
    "    qual_loss = np.sum(qual_loss)\n",
    "    return qual_loss\n"
   ]
  },
  {
   "cell_type": "code",
   "execution_count": null,
   "metadata": {
    "collapsed": true
   },
   "outputs": [],
   "source": []
  },
  {
   "cell_type": "code",
   "execution_count": null,
   "metadata": {
    "collapsed": true
   },
   "outputs": [],
   "source": []
  },
  {
   "cell_type": "code",
   "execution_count": null,
   "metadata": {
    "collapsed": true
   },
   "outputs": [],
   "source": []
  },
  {
   "cell_type": "code",
   "execution_count": null,
   "metadata": {},
   "outputs": [],
   "source": [
    "autosklearn_optimizer._automl._automl."
   ]
  },
  {
   "cell_type": "code",
   "execution_count": null,
   "metadata": {},
   "outputs": [],
   "source": [
    "as_asl_ensemble.stacking_model.autosklearn_optimizer._automl._automl."
   ]
  },
  {
   "cell_type": "code",
   "execution_count": null,
   "metadata": {
    "scrolled": false
   },
   "outputs": [],
   "source": [
    "as_asl_ensemble.stacking_model.create_classification_optimizer(as_asl_ensemble.args)\n",
    "autosklearn_optimizer = as_asl_ensemble.stacking_model.autosklearn_optimizer\n",
    "X_stacking_train = as_asl_ensemble.X_stacking_train\n",
    "\n",
    "\n",
    "best_solvers = y_train.idxmin(axis=1)\n",
    "y_stacking_train = as_asl_ensemble.le_.transform(best_solvers)\n",
    "\n",
    "y_stacking_train = np.arange(len(y_train), dtype=int)\n",
    "\n",
    "\n",
    "solver_quality_loss_metric = autosklearn.metrics.make_scorer(\n",
    "    \"solver_quality_loss\",\n",
    "    solver_quality_loss,\n",
    "    greater_is_better=False,\n",
    "    needs_proba=True,\n",
    "    needs_threshold=False,\n",
    "    as_asl_ensemble=as_asl_ensemble\n",
    ")\n",
    "\n",
    "autosklearn_optimizer.fit(X_stacking_train, y_stacking_train, metric=solver_quality_loss_metric)"
   ]
  },
  {
   "cell_type": "code",
   "execution_count": null,
   "metadata": {},
   "outputs": [],
   "source": [
    "best_solvers = y_train.idxmin(axis=1)\n",
    "self.y_stacking_train = self.le_.transform(best_solvers)"
   ]
  },
  {
   "cell_type": "code",
   "execution_count": null,
   "metadata": {
    "collapsed": true
   },
   "outputs": [],
   "source": []
  },
  {
   "cell_type": "code",
   "execution_count": null,
   "metadata": {
    "collapsed": true
   },
   "outputs": [],
   "source": []
  },
  {
   "cell_type": "code",
   "execution_count": null,
   "metadata": {},
   "outputs": [],
   "source": [
    "\n",
    "y_stacking_train = as_asl_ensemble.y_stacking_train"
   ]
  },
  {
   "cell_type": "code",
   "execution_count": null,
   "metadata": {
    "scrolled": true
   },
   "outputs": [],
   "source": [
    "y_train"
   ]
  },
  {
   "cell_type": "code",
   "execution_count": null,
   "metadata": {
    "scrolled": true
   },
   "outputs": [],
   "source": [
    "as_asl_ensemble.stacking_model = automl_utils.AutoSklearnWrapper(estimator_named_step=\"classifer\", args=args)\n",
    "as_asl_ensemble.stacking_model_ = as_asl_ensemble.stacking_model.fit(\n",
    "    as_asl_ensemble.X_stacking_train,\n",
    "    #as_asl_ensemble.y_stacking_train,\n",
    "    y_train,\n",
    "    metric=solver_quality_loss_metric,\n",
    "    encode_y=False\n",
    ")"
   ]
  },
  {
   "cell_type": "code",
   "execution_count": null,
   "metadata": {
    "collapsed": true
   },
   "outputs": [],
   "source": []
  },
  {
   "cell_type": "code",
   "execution_count": null,
   "metadata": {
    "collapsed": true
   },
   "outputs": [],
   "source": [
    "y_pred_proba = as_asl_ensemble_fit.predict_proba(X_train)\n",
    "y_pred = np.argmax(y_pred_proba, axis=1)"
   ]
  },
  {
   "cell_type": "code",
   "execution_count": null,
   "metadata": {
    "scrolled": true
   },
   "outputs": [],
   "source": [
    "y_stacking_train"
   ]
  },
  {
   "cell_type": "code",
   "execution_count": null,
   "metadata": {},
   "outputs": [],
   "source": []
  },
  {
   "cell_type": "code",
   "execution_count": null,
   "metadata": {
    "collapsed": true
   },
   "outputs": [],
   "source": [
    "y_pred = np.ma"
   ]
  }
 ],
 "metadata": {
  "kernelspec": {
   "display_name": "algorithm-selection",
   "language": "python",
   "name": "algorithm-selection"
  },
  "language_info": {
   "codemirror_mode": {
    "name": "ipython",
    "version": 3
   },
   "file_extension": ".py",
   "mimetype": "text/x-python",
   "name": "python",
   "nbconvert_exporter": "python",
   "pygments_lexer": "ipython3",
   "version": "3.6.1"
  }
 },
 "nbformat": 4,
 "nbformat_minor": 2
}
